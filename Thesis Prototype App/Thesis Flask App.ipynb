{
 "cells": [
  {
   "cell_type": "code",
   "execution_count": null,
   "metadata": {
    "colab": {
     "base_uri": "https://localhost:8080/"
    },
    "executionInfo": {
     "elapsed": 17126,
     "status": "ok",
     "timestamp": 1649556631907,
     "user": {
      "displayName": "Mark Angelo Nicolas",
      "userId": "13266928597688411588"
     },
     "user_tz": -480
    },
    "id": "Qb0yI2vNQABq",
    "outputId": "8ca0d408-a9b4-4356-b302-2deb694b3ba6"
   },
   "outputs": [
    {
     "name": "stdout",
     "output_type": "stream",
     "text": [
      "Mounted at /gdrive\n"
     ]
    }
   ],
   "source": [
    "from google.colab import drive\n",
    "drive.mount('/gdrive')"
   ]
  },
  {
   "cell_type": "code",
   "execution_count": null,
   "metadata": {
    "colab": {
     "base_uri": "https://localhost:8080/"
    },
    "executionInfo": {
     "elapsed": 16322,
     "status": "ok",
     "timestamp": 1649556651241,
     "user": {
      "displayName": "Mark Angelo Nicolas",
      "userId": "13266928597688411588"
     },
     "user_tz": -480
    },
    "id": "xcGevoCw3lie",
    "outputId": "d80fad7f-1518-4444-de8f-4b2fb4b008a6"
   },
   "outputs": [
    {
     "name": "stdout",
     "output_type": "stream",
     "text": [
      "Collecting mediapipe\n",
      "  Downloading mediapipe-0.8.9.1-cp37-cp37m-manylinux_2_17_x86_64.manylinux2014_x86_64.whl (32.7 MB)\n",
      "\u001b[K     |████████████████████████████████| 32.7 MB 160 kB/s \n",
      "\u001b[?25hRequirement already satisfied: opencv-contrib-python in /usr/local/lib/python3.7/dist-packages (from mediapipe) (4.1.2.30)\n",
      "Requirement already satisfied: matplotlib in /usr/local/lib/python3.7/dist-packages (from mediapipe) (3.2.2)\n",
      "Requirement already satisfied: numpy in /usr/local/lib/python3.7/dist-packages (from mediapipe) (1.21.5)\n",
      "Requirement already satisfied: protobuf>=3.11.4 in /usr/local/lib/python3.7/dist-packages (from mediapipe) (3.17.3)\n",
      "Requirement already satisfied: absl-py in /usr/local/lib/python3.7/dist-packages (from mediapipe) (1.0.0)\n",
      "Requirement already satisfied: attrs>=19.1.0 in /usr/local/lib/python3.7/dist-packages (from mediapipe) (21.4.0)\n",
      "Requirement already satisfied: six>=1.9 in /usr/local/lib/python3.7/dist-packages (from protobuf>=3.11.4->mediapipe) (1.15.0)\n",
      "Requirement already satisfied: pyparsing!=2.0.4,!=2.1.2,!=2.1.6,>=2.0.1 in /usr/local/lib/python3.7/dist-packages (from matplotlib->mediapipe) (3.0.7)\n",
      "Requirement already satisfied: kiwisolver>=1.0.1 in /usr/local/lib/python3.7/dist-packages (from matplotlib->mediapipe) (1.4.0)\n",
      "Requirement already satisfied: cycler>=0.10 in /usr/local/lib/python3.7/dist-packages (from matplotlib->mediapipe) (0.11.0)\n",
      "Requirement already satisfied: python-dateutil>=2.1 in /usr/local/lib/python3.7/dist-packages (from matplotlib->mediapipe) (2.8.2)\n",
      "Requirement already satisfied: typing-extensions in /usr/local/lib/python3.7/dist-packages (from kiwisolver>=1.0.1->matplotlib->mediapipe) (3.10.0.2)\n",
      "Installing collected packages: mediapipe\n",
      "Successfully installed mediapipe-0.8.9.1\n",
      "Collecting mtcnn\n",
      "  Downloading mtcnn-0.1.1-py3-none-any.whl (2.3 MB)\n",
      "\u001b[K     |████████████████████████████████| 2.3 MB 5.3 MB/s \n",
      "\u001b[?25hRequirement already satisfied: keras>=2.0.0 in /usr/local/lib/python3.7/dist-packages (from mtcnn) (2.8.0)\n",
      "Requirement already satisfied: opencv-python>=4.1.0 in /usr/local/lib/python3.7/dist-packages (from mtcnn) (4.1.2.30)\n",
      "Requirement already satisfied: numpy>=1.14.5 in /usr/local/lib/python3.7/dist-packages (from opencv-python>=4.1.0->mtcnn) (1.21.5)\n",
      "Installing collected packages: mtcnn\n",
      "Successfully installed mtcnn-0.1.1\n"
     ]
    }
   ],
   "source": [
    "!pip install mtcnn\n",
    "import tensorflow as tf\n",
    "import keras\n",
    "from keras.preprocessing import image as kimage\n",
    "\n",
    "from mtcnn import MTCNN\n",
    "\n",
    "import pandas as pd\n",
    "import numpy as np\n",
    "import matplotlib.pyplot as plt\n",
    "\n",
    "import cv2\n",
    "from google.colab.patches import cv2_imshow\n",
    "from PIL import Image\n",
    "import time\n",
    "import os"
   ]
  },
  {
   "cell_type": "code",
   "execution_count": 1,
   "metadata": {},
   "outputs": [
    {
     "name": "stdout",
     "output_type": "stream",
     "text": [
      "C:\\Users\\Mark\\Downloads\\drive-download-20220523T092121Z-001\\Thesis Prototype App\n"
     ]
    }
   ],
   "source": [
    "# get current working directory\n",
    "CWD = os.getcwd()\n",
    "\n",
    "# model directory\n",
    "MODEL = CWD + \"\\\\thesis_final_model.h5\"\n",
    "\n",
    "# template folder for flask\n",
    "FLASK_FOLDER = CWD + \"\\\\template\""
   ]
  },
  {
   "cell_type": "code",
   "execution_count": 8,
   "metadata": {},
   "outputs": [
    {
     "name": "stdout",
     "output_type": "stream",
     "text": [
      "['.ipynb_checkpoints', 'App Demo', 'template', 'Thesis Flask App.ipynb', 'thesis_final_model.h5']\n",
      "C:\\Users\\Mark\\Downloads\\drive-download-20220523T092121Z-001\\Thesis Prototype App\n"
     ]
    }
   ],
   "source": [
    "print(os.listdir(CWD))\n",
    "print(CWD)"
   ]
  },
  {
   "cell_type": "code",
   "execution_count": null,
   "metadata": {
    "id": "VyufTb0m4p9X"
   },
   "outputs": [],
   "source": [
    "class Emotion_Analysis():\n",
    "    def __init__(self):\n",
    "        self.model = keras.models.load_model(MODEL)\n",
    "        self.objects = ('angry', 'disgust', 'fear', 'happy', 'sad', 'surprise', 'neutral')\n",
    "    \n",
    "    def detect_emotion(self, img):\n",
    "        img = Image.fromarray(img)\n",
    "        img = img.resize((48,48))\n",
    "        img = kimage.img_to_array(img)\n",
    "        img = np.expand_dims(img, axis=0)\n",
    "        img /= 255.0\n",
    "        # v = []\n",
    "        prediction = self.model.predict(img)\n",
    "        dominant, sub_dominant = getIndex(prediction[0])\n",
    "        # idx = np.argmax(prediction[0])\n",
    "        # for i in prediction[0]:\n",
    "        #   v.append(i)\n",
    "        # print(v)\n",
    "        return self.objects[dominant], self.objects[sub_dominant]"
   ]
  },
  {
   "cell_type": "code",
   "execution_count": null,
   "metadata": {
    "id": "1bSDGK_GITmu"
   },
   "outputs": [],
   "source": [
    "def getIndex(lst):\n",
    "  tmp = list(lst)\n",
    "  lst.sort()\n",
    "  return tmp.index(lst[-1]), tmp.index(lst[-2])\n"
   ]
  },
  {
   "cell_type": "code",
   "execution_count": null,
   "metadata": {
    "id": "zOIokCAcSUX3"
   },
   "outputs": [],
   "source": [
    "data = {\n",
    "      'hope': [],\n",
    "      'pride': [],\n",
    "      'enjoyment': [],\n",
    "      'angry': [],\n",
    "      'anxiety': [],\n",
    "      'shame': [],\n",
    "      'boredom': [],\n",
    "      'hopelessness': [],\n",
    "      'disgust': [],\n",
    "      'fear': [],\n",
    "      'sad': [],\n",
    "      'surprise': [],\n",
    "      'neutral': [],\n",
    "      'people': []\n",
    "  }\n",
    "total_num_of_faces = []"
   ]
  },
  {
   "cell_type": "code",
   "execution_count": null,
   "metadata": {
    "colab": {
     "base_uri": "https://localhost:8080/",
     "height": 34
    },
    "executionInfo": {
     "elapsed": 2815,
     "status": "ok",
     "timestamp": 1649557677128,
     "user": {
      "displayName": "Mark Angelo Nicolas",
      "userId": "13266928597688411588"
     },
     "user_tz": -480
    },
    "id": "_iQb_DnYUdgM",
    "outputId": "66ed35c2-9b52-4d87-8ebf-c951a38c0d96"
   },
   "outputs": [
    {
     "name": "stdout",
     "output_type": "stream",
     "text": [
      "https://nddabcgkyi-496ff2e9c6d22116-5000-colab.googleusercontent.com/\n"
     ]
    }
   ],
   "source": [
    "from google.colab.output import eval_js\n",
    "print(eval_js(\"google.colab.kernel.proxyPort(5000)\"))"
   ]
  },
  {
   "cell_type": "code",
   "execution_count": null,
   "metadata": {
    "id": "6Hg2G6RnfPZT"
   },
   "outputs": [],
   "source": [
    "\n",
    "def getAffectiveState(dominant, sub_dominant):\n",
    "  state = ''\n",
    "  if dominant == 'happy' and sub_dominant == 'surprise': \n",
    "    state = 'hope'\n",
    "  elif dominant == 'happy' and sub_dominant == 'angry': \n",
    "    state = 'pride'\n",
    "  elif dominant == 'happy': \n",
    "    state = 'enjoyment'\n",
    "  elif dominant == 'angry': \n",
    "    state = 'angry'\n",
    "  elif dominant == 'fear' and sub_dominant == 'surprise': \n",
    "    state = 'anxiety'\n",
    "  elif dominant == 'fear' and sub_dominant == 'sad': \n",
    "    state = 'shame'\n",
    "  elif dominant == 'sad' and sub_dominant == 'neutral' or sub_dominant == 'surprise': \n",
    "    state = 'boredom'\n",
    "  elif dominant == 'sad' and sub_dominant == 'surprise': \n",
    "    state = 'hopelessness'\n",
    "  else:\n",
    "    state = dominant\n",
    "  return state\n"
   ]
  },
  {
   "cell_type": "code",
   "execution_count": null,
   "metadata": {
    "id": "1-3jqVxSMIGV"
   },
   "outputs": [],
   "source": [
    "def getDict():\n",
    "  return {\n",
    "      'hope': 0,\n",
    "      'pride': 0,\n",
    "      'enjoyment': 0,\n",
    "      'angry': 0,\n",
    "      'anxiety': 0,\n",
    "      'shame': 0,\n",
    "      'boredom': 0,\n",
    "      'hopelessness': 0,\n",
    "      'disgust': 0,\n",
    "      'fear': 0,\n",
    "      'sad': 0,\n",
    "      'surprise': 0,\n",
    "      'neutral': 0,\n",
    "      'people': 0\n",
    "  }"
   ]
  },
  {
   "cell_type": "code",
   "execution_count": null,
   "metadata": {
    "colab": {
     "base_uri": "https://localhost:8080/"
    },
    "executionInfo": {
     "elapsed": 227964,
     "status": "ok",
     "timestamp": 1649557907766,
     "user": {
      "displayName": "Mark Angelo Nicolas",
      "userId": "13266928597688411588"
     },
     "user_tz": -480
    },
    "id": "FTpXnotTRu48",
    "outputId": "b06fca63-73e6-4166-b489-41359910675d"
   },
   "outputs": [
    {
     "name": "stdout",
     "output_type": "stream",
     "text": [
      " * Serving Flask app \"__main__\" (lazy loading)\n",
      " * Environment: production\n",
      "\u001b[31m   WARNING: This is a development server. Do not use it in a production deployment.\u001b[0m\n",
      "\u001b[2m   Use a production WSGI server instead.\u001b[0m\n",
      " * Debug mode: off\n"
     ]
    },
    {
     "name": "stderr",
     "output_type": "stream",
     "text": [
      " * Running on http://127.0.0.1:5000/ (Press CTRL+C to quit)\n",
      "127.0.0.1 - - [10/Apr/2022 02:28:06] \"\u001b[37mGET / HTTP/1.1\u001b[0m\" 200 -\n",
      "127.0.0.1 - - [10/Apr/2022 02:28:08] \"\u001b[33mGET /favicon.ico HTTP/1.1\u001b[0m\" 404 -\n",
      "127.0.0.1 - - [10/Apr/2022 02:28:34] \"\u001b[37mPOST /upload HTTP/1.1\u001b[0m\" 200 -\n"
     ]
    },
    {
     "name": "stdout",
     "output_type": "stream",
     "text": [
      "{'hope': 0, 'pride': 0, 'enjoyment': 2, 'angry': 3, 'anxiety': 0, 'shame': 0, 'boredom': 2, 'hopelessness': 0, 'disgust': 0, 'fear': 4, 'sad': 1, 'surprise': 0, 'neutral': 3, 'people': 15}\n",
      "--- 2.7507195472717285 seconds ---\n"
     ]
    },
    {
     "name": "stderr",
     "output_type": "stream",
     "text": [
      "127.0.0.1 - - [10/Apr/2022 02:28:40] \"\u001b[37mPOST /upload HTTP/1.1\u001b[0m\" 200 -\n"
     ]
    },
    {
     "name": "stdout",
     "output_type": "stream",
     "text": [
      "{'hope': 0, 'pride': 0, 'enjoyment': 1, 'angry': 2, 'anxiety': 0, 'shame': 0, 'boredom': 3, 'hopelessness': 0, 'disgust': 0, 'fear': 2, 'sad': 2, 'surprise': 1, 'neutral': 6, 'people': 17}\n",
      "--- 2.43074107170105 seconds ---\n"
     ]
    },
    {
     "name": "stderr",
     "output_type": "stream",
     "text": [
      "127.0.0.1 - - [10/Apr/2022 02:28:44] \"\u001b[37mPOST /upload HTTP/1.1\u001b[0m\" 200 -\n"
     ]
    },
    {
     "name": "stdout",
     "output_type": "stream",
     "text": [
      "{'hope': 0, 'pride': 0, 'enjoyment': 3, 'angry': 0, 'anxiety': 0, 'shame': 0, 'boredom': 2, 'hopelessness': 0, 'disgust': 0, 'fear': 3, 'sad': 1, 'surprise': 0, 'neutral': 7, 'people': 16}\n",
      "--- 2.105839967727661 seconds ---\n"
     ]
    },
    {
     "name": "stderr",
     "output_type": "stream",
     "text": [
      "127.0.0.1 - - [10/Apr/2022 02:28:49] \"\u001b[37mPOST /upload HTTP/1.1\u001b[0m\" 200 -\n"
     ]
    },
    {
     "name": "stdout",
     "output_type": "stream",
     "text": [
      "{'hope': 0, 'pride': 0, 'enjoyment': 0, 'angry': 0, 'anxiety': 0, 'shame': 0, 'boredom': 0, 'hopelessness': 0, 'disgust': 0, 'fear': 5, 'sad': 0, 'surprise': 0, 'neutral': 0, 'people': 5}\n",
      "--- 1.299917221069336 seconds ---\n"
     ]
    },
    {
     "name": "stderr",
     "output_type": "stream",
     "text": [
      "127.0.0.1 - - [10/Apr/2022 02:28:54] \"\u001b[37mPOST /upload HTTP/1.1\u001b[0m\" 200 -\n"
     ]
    },
    {
     "name": "stdout",
     "output_type": "stream",
     "text": [
      "{'hope': 0, 'pride': 0, 'enjoyment': 0, 'angry': 0, 'anxiety': 1, 'shame': 0, 'boredom': 0, 'hopelessness': 0, 'disgust': 0, 'fear': 8, 'sad': 2, 'surprise': 0, 'neutral': 3, 'people': 14}\n",
      "--- 1.839965581893921 seconds ---\n"
     ]
    },
    {
     "name": "stderr",
     "output_type": "stream",
     "text": [
      "127.0.0.1 - - [10/Apr/2022 02:28:59] \"\u001b[37mPOST /upload HTTP/1.1\u001b[0m\" 200 -\n"
     ]
    },
    {
     "name": "stdout",
     "output_type": "stream",
     "text": [
      "{'hope': 0, 'pride': 0, 'enjoyment': 1, 'angry': 1, 'anxiety': 0, 'shame': 0, 'boredom': 0, 'hopelessness': 0, 'disgust': 0, 'fear': 4, 'sad': 4, 'surprise': 0, 'neutral': 5, 'people': 15}\n",
      "--- 1.9194235801696777 seconds ---\n"
     ]
    },
    {
     "name": "stderr",
     "output_type": "stream",
     "text": [
      "127.0.0.1 - - [10/Apr/2022 02:29:04] \"\u001b[37mPOST /upload HTTP/1.1\u001b[0m\" 200 -\n"
     ]
    },
    {
     "name": "stdout",
     "output_type": "stream",
     "text": [
      "{'hope': 0, 'pride': 0, 'enjoyment': 0, 'angry': 0, 'anxiety': 0, 'shame': 0, 'boredom': 1, 'hopelessness': 0, 'disgust': 0, 'fear': 6, 'sad': 4, 'surprise': 0, 'neutral': 4, 'people': 15}\n",
      "--- 2.0743825435638428 seconds ---\n"
     ]
    },
    {
     "name": "stderr",
     "output_type": "stream",
     "text": [
      "127.0.0.1 - - [10/Apr/2022 02:29:08] \"\u001b[37mPOST /upload HTTP/1.1\u001b[0m\" 200 -\n"
     ]
    },
    {
     "name": "stdout",
     "output_type": "stream",
     "text": [
      "{'hope': 0, 'pride': 0, 'enjoyment': 2, 'angry': 1, 'anxiety': 0, 'shame': 0, 'boredom': 1, 'hopelessness': 0, 'disgust': 0, 'fear': 2, 'sad': 0, 'surprise': 0, 'neutral': 7, 'people': 13}\n",
      "--- 1.8594002723693848 seconds ---\n"
     ]
    },
    {
     "name": "stderr",
     "output_type": "stream",
     "text": [
      "127.0.0.1 - - [10/Apr/2022 02:29:13] \"\u001b[37mPOST /upload HTTP/1.1\u001b[0m\" 200 -\n"
     ]
    },
    {
     "name": "stdout",
     "output_type": "stream",
     "text": [
      "{'hope': 0, 'pride': 0, 'enjoyment': 0, 'angry': 0, 'anxiety': 0, 'shame': 0, 'boredom': 0, 'hopelessness': 0, 'disgust': 0, 'fear': 6, 'sad': 4, 'surprise': 0, 'neutral': 3, 'people': 13}\n",
      "--- 1.790052890777588 seconds ---\n"
     ]
    },
    {
     "name": "stderr",
     "output_type": "stream",
     "text": [
      "127.0.0.1 - - [10/Apr/2022 02:29:19] \"\u001b[37mPOST /upload HTTP/1.1\u001b[0m\" 200 -\n"
     ]
    },
    {
     "name": "stdout",
     "output_type": "stream",
     "text": [
      "{'hope': 0, 'pride': 0, 'enjoyment': 1, 'angry': 1, 'anxiety': 0, 'shame': 0, 'boredom': 0, 'hopelessness': 0, 'disgust': 0, 'fear': 5, 'sad': 3, 'surprise': 0, 'neutral': 5, 'people': 15}\n",
      "--- 1.9436609745025635 seconds ---\n"
     ]
    },
    {
     "name": "stderr",
     "output_type": "stream",
     "text": [
      "127.0.0.1 - - [10/Apr/2022 02:29:24] \"\u001b[37mPOST /upload HTTP/1.1\u001b[0m\" 200 -\n"
     ]
    },
    {
     "name": "stdout",
     "output_type": "stream",
     "text": [
      "{'hope': 0, 'pride': 0, 'enjoyment': 1, 'angry': 2, 'anxiety': 0, 'shame': 0, 'boredom': 0, 'hopelessness': 0, 'disgust': 0, 'fear': 5, 'sad': 6, 'surprise': 0, 'neutral': 1, 'people': 15}\n",
      "--- 2.112267255783081 seconds ---\n"
     ]
    },
    {
     "name": "stderr",
     "output_type": "stream",
     "text": [
      "127.0.0.1 - - [10/Apr/2022 02:29:29] \"\u001b[37mPOST /upload HTTP/1.1\u001b[0m\" 200 -\n"
     ]
    },
    {
     "name": "stdout",
     "output_type": "stream",
     "text": [
      "{'hope': 0, 'pride': 0, 'enjoyment': 2, 'angry': 0, 'anxiety': 0, 'shame': 0, 'boredom': 1, 'hopelessness': 0, 'disgust': 0, 'fear': 4, 'sad': 5, 'surprise': 0, 'neutral': 3, 'people': 15}\n",
      "--- 2.007917642593384 seconds ---\n"
     ]
    },
    {
     "name": "stderr",
     "output_type": "stream",
     "text": [
      "127.0.0.1 - - [10/Apr/2022 02:29:34] \"\u001b[37mPOST /upload HTTP/1.1\u001b[0m\" 200 -\n"
     ]
    },
    {
     "name": "stdout",
     "output_type": "stream",
     "text": [
      "{'hope': 0, 'pride': 0, 'enjoyment': 1, 'angry': 0, 'anxiety': 0, 'shame': 0, 'boredom': 0, 'hopelessness': 0, 'disgust': 0, 'fear': 6, 'sad': 5, 'surprise': 0, 'neutral': 2, 'people': 14}\n",
      "--- 1.9267942905426025 seconds ---\n"
     ]
    },
    {
     "name": "stderr",
     "output_type": "stream",
     "text": [
      "127.0.0.1 - - [10/Apr/2022 02:29:38] \"\u001b[37mPOST /upload HTTP/1.1\u001b[0m\" 200 -\n"
     ]
    },
    {
     "name": "stdout",
     "output_type": "stream",
     "text": [
      "{'hope': 0, 'pride': 0, 'enjoyment': 0, 'angry': 2, 'anxiety': 0, 'shame': 0, 'boredom': 1, 'hopelessness': 0, 'disgust': 0, 'fear': 1, 'sad': 4, 'surprise': 1, 'neutral': 6, 'people': 15}\n",
      "--- 1.9798274040222168 seconds ---\n"
     ]
    },
    {
     "name": "stderr",
     "output_type": "stream",
     "text": [
      "127.0.0.1 - - [10/Apr/2022 02:29:41] \"\u001b[37mPOST /upload HTTP/1.1\u001b[0m\" 200 -\n"
     ]
    },
    {
     "name": "stdout",
     "output_type": "stream",
     "text": [
      "{'hope': 0, 'pride': 0, 'enjoyment': 0, 'angry': 0, 'anxiety': 0, 'shame': 0, 'boredom': 0, 'hopelessness': 0, 'disgust': 0, 'fear': 1, 'sad': 0, 'surprise': 0, 'neutral': 0, 'people': 1}\n",
      "--- 1.0753238201141357 seconds ---\n"
     ]
    },
    {
     "name": "stderr",
     "output_type": "stream",
     "text": [
      "127.0.0.1 - - [10/Apr/2022 02:29:48] \"\u001b[37mPOST /upload HTTP/1.1\u001b[0m\" 200 -\n"
     ]
    },
    {
     "name": "stdout",
     "output_type": "stream",
     "text": [
      "{'hope': 0, 'pride': 0, 'enjoyment': 0, 'angry': 1, 'anxiety': 0, 'shame': 0, 'boredom': 1, 'hopelessness': 0, 'disgust': 0, 'fear': 3, 'sad': 5, 'surprise': 0, 'neutral': 5, 'people': 15}\n",
      "--- 1.925574779510498 seconds ---\n"
     ]
    },
    {
     "name": "stderr",
     "output_type": "stream",
     "text": [
      "127.0.0.1 - - [10/Apr/2022 02:29:54] \"\u001b[37mPOST /upload HTTP/1.1\u001b[0m\" 200 -\n"
     ]
    },
    {
     "name": "stdout",
     "output_type": "stream",
     "text": [
      "{'hope': 0, 'pride': 0, 'enjoyment': 0, 'angry': 0, 'anxiety': 0, 'shame': 0, 'boredom': 0, 'hopelessness': 0, 'disgust': 0, 'fear': 3, 'sad': 4, 'surprise': 0, 'neutral': 6, 'people': 13}\n",
      "--- 1.9406166076660156 seconds ---\n"
     ]
    },
    {
     "name": "stderr",
     "output_type": "stream",
     "text": [
      "127.0.0.1 - - [10/Apr/2022 02:29:58] \"\u001b[37mPOST /upload HTTP/1.1\u001b[0m\" 200 -\n"
     ]
    },
    {
     "name": "stdout",
     "output_type": "stream",
     "text": [
      "{'hope': 0, 'pride': 0, 'enjoyment': 0, 'angry': 0, 'anxiety': 0, 'shame': 0, 'boredom': 1, 'hopelessness': 0, 'disgust': 0, 'fear': 5, 'sad': 4, 'surprise': 0, 'neutral': 3, 'people': 13}\n",
      "--- 1.8895151615142822 seconds ---\n"
     ]
    },
    {
     "name": "stderr",
     "output_type": "stream",
     "text": [
      "127.0.0.1 - - [10/Apr/2022 02:30:00] \"\u001b[37mGET / HTTP/1.1\u001b[0m\" 200 -\n",
      "127.0.0.1 - - [10/Apr/2022 02:30:04] \"\u001b[37mPOST /upload HTTP/1.1\u001b[0m\" 200 -\n"
     ]
    },
    {
     "name": "stdout",
     "output_type": "stream",
     "text": [
      "{'hope': 1, 'pride': 0, 'enjoyment': 0, 'angry': 0, 'anxiety': 0, 'shame': 0, 'boredom': 1, 'hopelessness': 0, 'disgust': 0, 'fear': 1, 'sad': 5, 'surprise': 0, 'neutral': 6, 'people': 14}\n",
      "--- 1.922809362411499 seconds ---\n"
     ]
    },
    {
     "name": "stderr",
     "output_type": "stream",
     "text": [
      "127.0.0.1 - - [10/Apr/2022 02:30:08] \"\u001b[37mPOST /upload HTTP/1.1\u001b[0m\" 200 -\n"
     ]
    },
    {
     "name": "stdout",
     "output_type": "stream",
     "text": [
      "{'hope': 0, 'pride': 0, 'enjoyment': 0, 'angry': 0, 'anxiety': 0, 'shame': 0, 'boredom': 0, 'hopelessness': 0, 'disgust': 0, 'fear': 4, 'sad': 5, 'surprise': 0, 'neutral': 6, 'people': 15}\n",
      "--- 1.9529705047607422 seconds ---\n"
     ]
    },
    {
     "name": "stderr",
     "output_type": "stream",
     "text": [
      "127.0.0.1 - - [10/Apr/2022 02:30:14] \"\u001b[37mPOST /upload HTTP/1.1\u001b[0m\" 200 -\n"
     ]
    },
    {
     "name": "stdout",
     "output_type": "stream",
     "text": [
      "{'hope': 0, 'pride': 0, 'enjoyment': 0, 'angry': 1, 'anxiety': 0, 'shame': 0, 'boredom': 1, 'hopelessness': 0, 'disgust': 0, 'fear': 1, 'sad': 4, 'surprise': 0, 'neutral': 8, 'people': 15}\n",
      "--- 1.9919466972351074 seconds ---\n"
     ]
    },
    {
     "name": "stderr",
     "output_type": "stream",
     "text": [
      "127.0.0.1 - - [10/Apr/2022 02:30:20] \"\u001b[37mPOST /upload HTTP/1.1\u001b[0m\" 200 -\n"
     ]
    },
    {
     "name": "stdout",
     "output_type": "stream",
     "text": [
      "{'hope': 0, 'pride': 0, 'enjoyment': 0, 'angry': 0, 'anxiety': 0, 'shame': 0, 'boredom': 1, 'hopelessness': 0, 'disgust': 0, 'fear': 3, 'sad': 5, 'surprise': 0, 'neutral': 4, 'people': 13}\n",
      "--- 1.8558683395385742 seconds ---\n"
     ]
    },
    {
     "name": "stderr",
     "output_type": "stream",
     "text": [
      "127.0.0.1 - - [10/Apr/2022 02:30:24] \"\u001b[37mPOST /upload HTTP/1.1\u001b[0m\" 200 -\n"
     ]
    },
    {
     "name": "stdout",
     "output_type": "stream",
     "text": [
      "{'hope': 0, 'pride': 0, 'enjoyment': 0, 'angry': 0, 'anxiety': 0, 'shame': 0, 'boredom': 1, 'hopelessness': 0, 'disgust': 0, 'fear': 1, 'sad': 5, 'surprise': 0, 'neutral': 5, 'people': 12}\n",
      "--- 1.8103413581848145 seconds ---\n"
     ]
    },
    {
     "name": "stderr",
     "output_type": "stream",
     "text": [
      "127.0.0.1 - - [10/Apr/2022 02:30:29] \"\u001b[37mPOST /upload HTTP/1.1\u001b[0m\" 200 -\n"
     ]
    },
    {
     "name": "stdout",
     "output_type": "stream",
     "text": [
      "{'hope': 0, 'pride': 0, 'enjoyment': 0, 'angry': 2, 'anxiety': 0, 'shame': 0, 'boredom': 1, 'hopelessness': 0, 'disgust': 0, 'fear': 5, 'sad': 3, 'surprise': 0, 'neutral': 4, 'people': 15}\n",
      "--- 2.0185470581054688 seconds ---\n"
     ]
    },
    {
     "name": "stderr",
     "output_type": "stream",
     "text": [
      "127.0.0.1 - - [10/Apr/2022 02:30:34] \"\u001b[37mPOST /upload HTTP/1.1\u001b[0m\" 200 -\n"
     ]
    },
    {
     "name": "stdout",
     "output_type": "stream",
     "text": [
      "{'hope': 0, 'pride': 0, 'enjoyment': 0, 'angry': 1, 'anxiety': 0, 'shame': 0, 'boredom': 1, 'hopelessness': 0, 'disgust': 0, 'fear': 5, 'sad': 3, 'surprise': 0, 'neutral': 5, 'people': 15}\n",
      "--- 2.0068836212158203 seconds ---\n"
     ]
    },
    {
     "name": "stderr",
     "output_type": "stream",
     "text": [
      "127.0.0.1 - - [10/Apr/2022 02:30:39] \"\u001b[37mPOST /upload HTTP/1.1\u001b[0m\" 200 -\n"
     ]
    },
    {
     "name": "stdout",
     "output_type": "stream",
     "text": [
      "{'hope': 0, 'pride': 1, 'enjoyment': 0, 'angry': 2, 'anxiety': 0, 'shame': 0, 'boredom': 0, 'hopelessness': 0, 'disgust': 0, 'fear': 4, 'sad': 3, 'surprise': 0, 'neutral': 4, 'people': 14}\n",
      "--- 1.9233651161193848 seconds ---\n"
     ]
    },
    {
     "name": "stderr",
     "output_type": "stream",
     "text": [
      "127.0.0.1 - - [10/Apr/2022 02:30:43] \"\u001b[37mPOST /upload HTTP/1.1\u001b[0m\" 200 -\n"
     ]
    },
    {
     "name": "stdout",
     "output_type": "stream",
     "text": [
      "{'hope': 0, 'pride': 0, 'enjoyment': 0, 'angry': 1, 'anxiety': 0, 'shame': 0, 'boredom': 0, 'hopelessness': 0, 'disgust': 0, 'fear': 5, 'sad': 4, 'surprise': 0, 'neutral': 3, 'people': 13}\n",
      "--- 1.9500887393951416 seconds ---\n"
     ]
    },
    {
     "name": "stderr",
     "output_type": "stream",
     "text": [
      "127.0.0.1 - - [10/Apr/2022 02:30:49] \"\u001b[37mPOST /upload HTTP/1.1\u001b[0m\" 200 -\n"
     ]
    },
    {
     "name": "stdout",
     "output_type": "stream",
     "text": [
      "{'hope': 0, 'pride': 0, 'enjoyment': 1, 'angry': 0, 'anxiety': 0, 'shame': 0, 'boredom': 1, 'hopelessness': 0, 'disgust': 0, 'fear': 5, 'sad': 4, 'surprise': 0, 'neutral': 2, 'people': 13}\n",
      "--- 1.9362678527832031 seconds ---\n"
     ]
    },
    {
     "name": "stderr",
     "output_type": "stream",
     "text": [
      "127.0.0.1 - - [10/Apr/2022 02:30:54] \"\u001b[37mPOST /upload HTTP/1.1\u001b[0m\" 200 -\n"
     ]
    },
    {
     "name": "stdout",
     "output_type": "stream",
     "text": [
      "{'hope': 0, 'pride': 0, 'enjoyment': 1, 'angry': 0, 'anxiety': 0, 'shame': 0, 'boredom': 1, 'hopelessness': 0, 'disgust': 0, 'fear': 3, 'sad': 3, 'surprise': 0, 'neutral': 6, 'people': 14}\n",
      "--- 1.9115946292877197 seconds ---\n"
     ]
    },
    {
     "name": "stderr",
     "output_type": "stream",
     "text": [
      "127.0.0.1 - - [10/Apr/2022 02:30:59] \"\u001b[37mPOST /upload HTTP/1.1\u001b[0m\" 200 -\n"
     ]
    },
    {
     "name": "stdout",
     "output_type": "stream",
     "text": [
      "{'hope': 0, 'pride': 0, 'enjoyment': 0, 'angry': 0, 'anxiety': 0, 'shame': 0, 'boredom': 0, 'hopelessness': 0, 'disgust': 0, 'fear': 4, 'sad': 4, 'surprise': 1, 'neutral': 5, 'people': 14}\n",
      "--- 1.9095227718353271 seconds ---\n"
     ]
    },
    {
     "name": "stderr",
     "output_type": "stream",
     "text": [
      "127.0.0.1 - - [10/Apr/2022 02:31:04] \"\u001b[37mPOST /upload HTTP/1.1\u001b[0m\" 200 -\n"
     ]
    },
    {
     "name": "stdout",
     "output_type": "stream",
     "text": [
      "{'hope': 0, 'pride': 1, 'enjoyment': 0, 'angry': 1, 'anxiety': 0, 'shame': 0, 'boredom': 2, 'hopelessness': 0, 'disgust': 0, 'fear': 4, 'sad': 3, 'surprise': 0, 'neutral': 3, 'people': 14}\n",
      "--- 2.153020143508911 seconds ---\n"
     ]
    },
    {
     "name": "stderr",
     "output_type": "stream",
     "text": [
      "127.0.0.1 - - [10/Apr/2022 02:31:09] \"\u001b[37mPOST /upload HTTP/1.1\u001b[0m\" 200 -\n"
     ]
    },
    {
     "name": "stdout",
     "output_type": "stream",
     "text": [
      "{'hope': 0, 'pride': 0, 'enjoyment': 0, 'angry': 0, 'anxiety': 1, 'shame': 0, 'boredom': 0, 'hopelessness': 0, 'disgust': 0, 'fear': 4, 'sad': 5, 'surprise': 1, 'neutral': 4, 'people': 15}\n",
      "--- 1.9262394905090332 seconds ---\n"
     ]
    },
    {
     "name": "stderr",
     "output_type": "stream",
     "text": [
      "127.0.0.1 - - [10/Apr/2022 02:31:14] \"\u001b[37mPOST /upload HTTP/1.1\u001b[0m\" 200 -\n"
     ]
    },
    {
     "name": "stdout",
     "output_type": "stream",
     "text": [
      "{'hope': 0, 'pride': 0, 'enjoyment': 2, 'angry': 0, 'anxiety': 1, 'shame': 0, 'boredom': 0, 'hopelessness': 0, 'disgust': 0, 'fear': 4, 'sad': 3, 'surprise': 0, 'neutral': 4, 'people': 14}\n",
      "--- 1.9072675704956055 seconds ---\n"
     ]
    },
    {
     "name": "stderr",
     "output_type": "stream",
     "text": [
      "127.0.0.1 - - [10/Apr/2022 02:31:19] \"\u001b[37mPOST /upload HTTP/1.1\u001b[0m\" 200 -\n"
     ]
    },
    {
     "name": "stdout",
     "output_type": "stream",
     "text": [
      "{'hope': 0, 'pride': 0, 'enjoyment': 0, 'angry': 0, 'anxiety': 0, 'shame': 0, 'boredom': 1, 'hopelessness': 0, 'disgust': 0, 'fear': 3, 'sad': 6, 'surprise': 0, 'neutral': 5, 'people': 15}\n",
      "--- 1.9640562534332275 seconds ---\n"
     ]
    },
    {
     "name": "stderr",
     "output_type": "stream",
     "text": [
      "127.0.0.1 - - [10/Apr/2022 02:31:24] \"\u001b[37mPOST /upload HTTP/1.1\u001b[0m\" 200 -\n"
     ]
    },
    {
     "name": "stdout",
     "output_type": "stream",
     "text": [
      "{'hope': 0, 'pride': 0, 'enjoyment': 0, 'angry': 0, 'anxiety': 0, 'shame': 0, 'boredom': 1, 'hopelessness': 0, 'disgust': 0, 'fear': 7, 'sad': 3, 'surprise': 0, 'neutral': 3, 'people': 14}\n",
      "--- 1.9176526069641113 seconds ---\n"
     ]
    },
    {
     "name": "stderr",
     "output_type": "stream",
     "text": [
      "127.0.0.1 - - [10/Apr/2022 02:31:30] \"\u001b[37mPOST /upload HTTP/1.1\u001b[0m\" 200 -\n"
     ]
    },
    {
     "name": "stdout",
     "output_type": "stream",
     "text": [
      "{'hope': 0, 'pride': 0, 'enjoyment': 0, 'angry': 1, 'anxiety': 0, 'shame': 0, 'boredom': 1, 'hopelessness': 0, 'disgust': 0, 'fear': 6, 'sad': 4, 'surprise': 0, 'neutral': 2, 'people': 14}\n",
      "--- 1.916999340057373 seconds ---\n"
     ]
    },
    {
     "name": "stderr",
     "output_type": "stream",
     "text": [
      "127.0.0.1 - - [10/Apr/2022 02:31:36] \"\u001b[37mPOST /upload HTTP/1.1\u001b[0m\" 200 -\n"
     ]
    },
    {
     "name": "stdout",
     "output_type": "stream",
     "text": [
      "{'hope': 0, 'pride': 0, 'enjoyment': 0, 'angry': 1, 'anxiety': 0, 'shame': 0, 'boredom': 2, 'hopelessness': 0, 'disgust': 0, 'fear': 1, 'sad': 5, 'surprise': 0, 'neutral': 5, 'people': 14}\n",
      "--- 1.993779182434082 seconds ---\n"
     ]
    },
    {
     "name": "stderr",
     "output_type": "stream",
     "text": [
      "127.0.0.1 - - [10/Apr/2022 02:31:39] \"\u001b[37mPOST /upload HTTP/1.1\u001b[0m\" 200 -\n"
     ]
    },
    {
     "name": "stdout",
     "output_type": "stream",
     "text": [
      "{'hope': 0, 'pride': 0, 'enjoyment': 1, 'angry': 0, 'anxiety': 0, 'shame': 0, 'boredom': 0, 'hopelessness': 0, 'disgust': 0, 'fear': 3, 'sad': 5, 'surprise': 0, 'neutral': 5, 'people': 14}\n",
      "--- 1.9569940567016602 seconds ---\n"
     ]
    },
    {
     "name": "stderr",
     "output_type": "stream",
     "text": [
      "127.0.0.1 - - [10/Apr/2022 02:31:41] \"\u001b[37mGET / HTTP/1.1\u001b[0m\" 200 -\n",
      "127.0.0.1 - - [10/Apr/2022 02:31:42] \"\u001b[33mGET /favicon.ico HTTP/1.1\u001b[0m\" 404 -\n"
     ]
    }
   ],
   "source": [
    "from flask import Flask, render_template, request, make_response, jsonify\n",
    "import base64\n",
    "import cv2\n",
    "import numpy as np\n",
    "import datetime\n",
    "import random\n",
    "\n",
    "app = Flask(__name__, template_folder=FLASK_FOLDER)\n",
    "face_detector = MTCNN()\n",
    "emotion_detector = Emotion_Analysis()\n",
    "\n",
    "@app.route('/')\n",
    "def index():\n",
    "    return render_template('index.html')\n",
    "\n",
    "@app.route('/upload', methods=['GET', 'POST'])\n",
    "def upload():\n",
    "    if request.method == 'POST':\n",
    "\n",
    "        fs = request.files.get('snap')\n",
    "\n",
    "        if fs:\n",
    "            start_time = time.time()\n",
    "\n",
    "            img = cv2.imdecode(np.frombuffer(fs.read(), np.uint8), cv2.IMREAD_UNCHANGED)\n",
    "            imgGray = cv2.cvtColor(img, cv2.COLOR_BGR2GRAY)\n",
    "            imgRGB = cv2.cvtColor(img, cv2.COLOR_BGR2RGB)\n",
    "\n",
    "            faces = face_detector.detect_faces(imgRGB)\n",
    "            affective_state = getDict()\n",
    "\n",
    "            for face in faces:\n",
    "                x,y,w,h = face['box'][0], face['box'][1], face['box'][2], face['box'][3]\n",
    "                cv2.rectangle(img, (x, y), (x+w, y+h), (0, 255, 0), 2)\n",
    "\n",
    "                cropped_image_gray = imgGray[y:y+h, x:x+w]\n",
    "\n",
    "                dominant, sub_dominant = emotion_detector.detect_emotion(cropped_image_gray)\n",
    "                state = getAffectiveState(dominant, sub_dominant)\n",
    "                affective_state[state] += 1\n",
    "\n",
    "                cv2.putText(img, state, (x, y-10), cv2.FONT_HERSHEY_SIMPLEX, 0.6, (36,255,12), 2) \n",
    "            \n",
    "            ret, buf = cv2.imencode('.jpg', img)\n",
    "            image_url = base64.b64encode(buf).decode('ascii')\n",
    "            \n",
    "            num_of_faces = len(faces)\n",
    "            total_num_of_faces.append(num_of_faces)\n",
    "            affective_state['people'] = num_of_faces\n",
    "            \n",
    "            for k,v in affective_state.items():\n",
    "              data[k].append(v)\n",
    "            print(affective_state)\n",
    "            # cv2_imshow(img)\n",
    "            print(\"--- %s seconds ---\" % (time.time() - start_time))\n",
    "            \n",
    "            return jsonify({\n",
    "                'image_url': image_url,\n",
    "                'affective_state': affective_state\n",
    "            })\n",
    "        else:\n",
    "            return 'You forgot Snap!'\n",
    "\n",
    "    return 'Hello World!'\n",
    "\n",
    "if __name__ == '__main__':\n",
    "    app.run(host='127.0.0.1', port=5000)"
   ]
  }
 ],
 "metadata": {
  "accelerator": "GPU",
  "colab": {
   "collapsed_sections": [],
   "name": "Thesis Flask App.ipynb",
   "provenance": [
    {
     "file_id": "1PVrdz9wpoS4j1lmv2J_h7oZEWQP6hUIr",
     "timestamp": 1647089128413
    }
   ]
  },
  "kernelspec": {
   "display_name": "Python 3",
   "language": "python",
   "name": "python3"
  },
  "language_info": {
   "codemirror_mode": {
    "name": "ipython",
    "version": 3
   },
   "file_extension": ".py",
   "mimetype": "text/x-python",
   "name": "python",
   "nbconvert_exporter": "python",
   "pygments_lexer": "ipython3",
   "version": "3.8.5"
  }
 },
 "nbformat": 4,
 "nbformat_minor": 1
}
