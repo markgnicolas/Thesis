{
 "cells": [
  {
   "cell_type": "code",
   "execution_count": null,
   "metadata": {
    "colab": {
     "base_uri": "https://localhost:8080/"
    },
    "executionInfo": {
     "elapsed": 25111,
     "status": "ok",
     "timestamp": 1648278424586,
     "user": {
      "displayName": "Mark Angelo Nicolas",
      "photoUrl": "https://lh3.googleusercontent.com/a-/AOh14Gha95NANwDGK-NOWMbw3tJZ3iDjf5aU6UlGFBL-rg=s64",
      "userId": "13266928597688411588"
     },
     "user_tz": -480
    },
    "id": "T-41g5F4mGQW",
    "outputId": "4479dd50-7e5e-4171-e7df-fd8b07901f43"
   },
   "outputs": [
    {
     "name": "stdout",
     "output_type": "stream",
     "text": [
      "Mounted at /gdrive\n"
     ]
    }
   ],
   "source": [
    "from google.colab import drive\n",
    "drive.mount('/gdrive')"
   ]
  },
  {
   "cell_type": "code",
   "execution_count": null,
   "metadata": {
    "id": "S2vQUF2-1Py9"
   },
   "outputs": [],
   "source": [
    "import math\n",
    "import numpy as np\n",
    "import pandas as pd\n",
    "\n",
    "import matplotlib.pyplot as plt\n",
    "import seaborn as sns\n",
    "\n",
    "from sklearn.model_selection import train_test_split\n",
    "from sklearn.preprocessing import LabelEncoder\n",
    "from keras.preprocessing.image import ImageDataGenerator\n",
    "from sklearn.metrics import classification_report, accuracy_score, confusion_matrix\n",
    "from imblearn.over_sampling import RandomOverSampler\n",
    "\n",
    "import tensorflow as tf\n",
    "from tensorflow import keras\n",
    "from keras import optimizers\n",
    "from keras.models import Sequential\n",
    "from keras.layers import Conv2D, MaxPool2D, AveragePooling2D, Input, BatchNormalization, MaxPooling2D, Activation, Flatten, Dense, Dropout\n",
    "from keras.callbacks import Callback, EarlyStopping, ReduceLROnPlateau, ModelCheckpoint, CSVLogger\n",
    "\n",
    "from keras.utils import np_utils\n",
    "\n",
    "import os"
   ]
  },
  {
   "cell_type": "code",
   "execution_count": 12,
   "metadata": {},
   "outputs": [
    {
     "name": "stdout",
     "output_type": "stream",
     "text": [
      "C:\\Users\\Mark\\Downloads\\drive-download-20220523T092121Z-001\\Thesis Model Training\\Dataset\\fer2013.csv\n"
     ]
    }
   ],
   "source": [
    "# get current working directory\n",
    "CWD = os.getcwd()\n",
    "\n",
    "# path url to dataset\n",
    "DATASET_PATH = CWD + \"\\Dataset\\\\fer2013.csv\"\n",
    "print(DATASET_PATH)"
   ]
  },
  {
   "cell_type": "code",
   "execution_count": 15,
   "metadata": {
    "colab": {
     "base_uri": "https://localhost:8080/",
     "height": 224
    },
    "executionInfo": {
     "elapsed": 6038,
     "status": "ok",
     "timestamp": 1648278438482,
     "user": {
      "displayName": "Mark Angelo Nicolas",
      "photoUrl": "https://lh3.googleusercontent.com/a-/AOh14Gha95NANwDGK-NOWMbw3tJZ3iDjf5aU6UlGFBL-rg=s64",
      "userId": "13266928597688411588"
     },
     "user_tz": -480
    },
    "id": "aafZcmma1QrV",
    "outputId": "3cb8f18a-c8c1-4dd4-9302-ea88c213fb27"
   },
   "outputs": [
    {
     "name": "stdout",
     "output_type": "stream",
     "text": [
      "(35887, 3)\n"
     ]
    },
    {
     "data": {
      "text/html": [
       "<div>\n",
       "<style scoped>\n",
       "    .dataframe tbody tr th:only-of-type {\n",
       "        vertical-align: middle;\n",
       "    }\n",
       "\n",
       "    .dataframe tbody tr th {\n",
       "        vertical-align: top;\n",
       "    }\n",
       "\n",
       "    .dataframe thead th {\n",
       "        text-align: right;\n",
       "    }\n",
       "</style>\n",
       "<table border=\"1\" class=\"dataframe\">\n",
       "  <thead>\n",
       "    <tr style=\"text-align: right;\">\n",
       "      <th></th>\n",
       "      <th>emotion</th>\n",
       "      <th>pixels</th>\n",
       "      <th>Usage</th>\n",
       "    </tr>\n",
       "  </thead>\n",
       "  <tbody>\n",
       "    <tr>\n",
       "      <th>0</th>\n",
       "      <td>0</td>\n",
       "      <td>70 80 82 72 58 58 60 63 54 58 60 48 89 115 121...</td>\n",
       "      <td>Training</td>\n",
       "    </tr>\n",
       "    <tr>\n",
       "      <th>1</th>\n",
       "      <td>0</td>\n",
       "      <td>151 150 147 155 148 133 111 140 170 174 182 15...</td>\n",
       "      <td>Training</td>\n",
       "    </tr>\n",
       "    <tr>\n",
       "      <th>2</th>\n",
       "      <td>2</td>\n",
       "      <td>231 212 156 164 174 138 161 173 182 200 106 38...</td>\n",
       "      <td>Training</td>\n",
       "    </tr>\n",
       "    <tr>\n",
       "      <th>3</th>\n",
       "      <td>4</td>\n",
       "      <td>24 32 36 30 32 23 19 20 30 41 21 22 32 34 21 1...</td>\n",
       "      <td>Training</td>\n",
       "    </tr>\n",
       "    <tr>\n",
       "      <th>4</th>\n",
       "      <td>6</td>\n",
       "      <td>4 0 0 0 0 0 0 0 0 0 0 0 3 15 23 28 48 50 58 84...</td>\n",
       "      <td>Training</td>\n",
       "    </tr>\n",
       "  </tbody>\n",
       "</table>\n",
       "</div>"
      ],
      "text/plain": [
       "   emotion                                             pixels     Usage\n",
       "0        0  70 80 82 72 58 58 60 63 54 58 60 48 89 115 121...  Training\n",
       "1        0  151 150 147 155 148 133 111 140 170 174 182 15...  Training\n",
       "2        2  231 212 156 164 174 138 161 173 182 200 106 38...  Training\n",
       "3        4  24 32 36 30 32 23 19 20 30 41 21 22 32 34 21 1...  Training\n",
       "4        6  4 0 0 0 0 0 0 0 0 0 0 0 3 15 23 28 48 50 58 84...  Training"
      ]
     },
     "execution_count": 15,
     "metadata": {},
     "output_type": "execute_result"
    }
   ],
   "source": [
    "data = pd.read_csv(DATASET_PATH)\n",
    "print(data.shape)\n",
    "#preview first 5 row of data\n",
    "data.head(5)"
   ]
  },
  {
   "cell_type": "code",
   "execution_count": null,
   "metadata": {
    "colab": {
     "base_uri": "https://localhost:8080/"
    },
    "executionInfo": {
     "elapsed": 43,
     "status": "ok",
     "timestamp": 1648278438483,
     "user": {
      "displayName": "Mark Angelo Nicolas",
      "photoUrl": "https://lh3.googleusercontent.com/a-/AOh14Gha95NANwDGK-NOWMbw3tJZ3iDjf5aU6UlGFBL-rg=s64",
      "userId": "13266928597688411588"
     },
     "user_tz": -480
    },
    "id": "yh4uyXwP1TQD",
    "outputId": "ed31bf8d-6da8-4c96-e2e9-4fc46099d01b"
   },
   "outputs": [
    {
     "data": {
      "text/plain": [
       "array([0, 2, 4, 6, 3, 5, 1])"
      ]
     },
     "execution_count": 4,
     "metadata": {},
     "output_type": "execute_result"
    }
   ],
   "source": [
    "data.emotion.unique()"
   ]
  },
  {
   "cell_type": "code",
   "execution_count": null,
   "metadata": {
    "id": "M7HekB9E1Uwm"
   },
   "outputs": [],
   "source": [
    "emotion_label = {\n",
    "    0:'anger', \n",
    "    1:'disgust', \n",
    "    2:'fear', \n",
    "    3:'happiness', \n",
    "    4: 'sadness', \n",
    "    5: 'surprise', \n",
    "    6: 'neutral'\n",
    "}"
   ]
  },
  {
   "cell_type": "code",
   "execution_count": null,
   "metadata": {
    "colab": {
     "base_uri": "https://localhost:8080/"
    },
    "executionInfo": {
     "elapsed": 36,
     "status": "ok",
     "timestamp": 1648278438488,
     "user": {
      "displayName": "Mark Angelo Nicolas",
      "photoUrl": "https://lh3.googleusercontent.com/a-/AOh14Gha95NANwDGK-NOWMbw3tJZ3iDjf5aU6UlGFBL-rg=s64",
      "userId": "13266928597688411588"
     },
     "user_tz": -480
    },
    "id": "RZw32DDA1W-V",
    "outputId": "088e2028-3590-4fb2-8e2a-94408bdba0e4"
   },
   "outputs": [
    {
     "data": {
      "text/plain": [
       "3    8989\n",
       "6    6198\n",
       "4    6077\n",
       "2    5121\n",
       "0    4953\n",
       "5    4002\n",
       "1     547\n",
       "Name: emotion, dtype: int64"
      ]
     },
     "execution_count": 6,
     "metadata": {},
     "output_type": "execute_result"
    }
   ],
   "source": [
    "data.emotion.value_counts()"
   ]
  },
  {
   "cell_type": "code",
   "execution_count": null,
   "metadata": {
    "colab": {
     "base_uri": "https://localhost:8080/"
    },
    "executionInfo": {
     "elapsed": 34,
     "status": "ok",
     "timestamp": 1648278438489,
     "user": {
      "displayName": "Mark Angelo Nicolas",
      "photoUrl": "https://lh3.googleusercontent.com/a-/AOh14Gha95NANwDGK-NOWMbw3tJZ3iDjf5aU6UlGFBL-rg=s64",
      "userId": "13266928597688411588"
     },
     "user_tz": -480
    },
    "id": "4QTzhod4171X",
    "outputId": "37ba268a-8e69-4f42-c48c-9d181aae6229"
   },
   "outputs": [
    {
     "name": "stdout",
     "output_type": "stream",
     "text": [
      "(35887,) (35887,)\n"
     ]
    }
   ],
   "source": [
    "x_data = data['pixels']\n",
    "y_data = data['emotion']\n",
    "print(x_data.shape, y_data.shape)"
   ]
  },
  {
   "cell_type": "code",
   "execution_count": null,
   "metadata": {
    "colab": {
     "base_uri": "https://localhost:8080/"
    },
    "executionInfo": {
     "elapsed": 31,
     "status": "ok",
     "timestamp": 1648278438490,
     "user": {
      "displayName": "Mark Angelo Nicolas",
      "photoUrl": "https://lh3.googleusercontent.com/a-/AOh14Gha95NANwDGK-NOWMbw3tJZ3iDjf5aU6UlGFBL-rg=s64",
      "userId": "13266928597688411588"
     },
     "user_tz": -480
    },
    "id": "gCmGjfVU1-pR",
    "outputId": "8e4df6aa-6299-4a3d-84e8-7d45038af1c4"
   },
   "outputs": [
    {
     "name": "stdout",
     "output_type": "stream",
     "text": [
      "(62923, 1)   (62923,)\n"
     ]
    }
   ],
   "source": [
    "oversampler = RandomOverSampler(sampling_strategy='auto')\n",
    "\n",
    "x_data, y_data = oversampler.fit_resample(x_data.values.reshape(-1,1), y_data)\n",
    "print(x_data.shape,\" \",y_data.shape)"
   ]
  },
  {
   "cell_type": "code",
   "execution_count": null,
   "metadata": {
    "colab": {
     "base_uri": "https://localhost:8080/"
    },
    "executionInfo": {
     "elapsed": 28,
     "status": "ok",
     "timestamp": 1648278438491,
     "user": {
      "displayName": "Mark Angelo Nicolas",
      "photoUrl": "https://lh3.googleusercontent.com/a-/AOh14Gha95NANwDGK-NOWMbw3tJZ3iDjf5aU6UlGFBL-rg=s64",
      "userId": "13266928597688411588"
     },
     "user_tz": -480
    },
    "id": "0B5R0QFt2Cp0",
    "outputId": "1d274e27-8549-43ce-8556-6f53a2da0ef4"
   },
   "outputs": [
    {
     "data": {
      "text/plain": [
       "0        70 80 82 72 58 58 60 63 54 58 60 48 89 115 121...\n",
       "1        151 150 147 155 148 133 111 140 170 174 182 15...\n",
       "2        231 212 156 164 174 138 161 173 182 200 106 38...\n",
       "3        24 32 36 30 32 23 19 20 30 41 21 22 32 34 21 1...\n",
       "4        4 0 0 0 0 0 0 0 0 0 0 0 3 15 23 28 48 50 58 84...\n",
       "                               ...                        \n",
       "62918    22 22 23 33 24 24 23 23 25 29 32 27 33 40 50 8...\n",
       "62919    72 71 68 76 72 76 77 81 88 89 93 97 95 92 90 8...\n",
       "62920    119 116 171 225 209 206 217 143 94 167 168 115...\n",
       "62921    48 53 47 91 137 116 77 135 147 121 132 137 134...\n",
       "62922    102 100 98 90 90 102 96 103 75 85 80 87 98 101...\n",
       "Length: 62923, dtype: object"
      ]
     },
     "execution_count": 9,
     "metadata": {},
     "output_type": "execute_result"
    }
   ],
   "source": [
    "x_data = pd.Series(x_data.flatten())\n",
    "x_data"
   ]
  },
  {
   "cell_type": "code",
   "execution_count": null,
   "metadata": {
    "colab": {
     "base_uri": "https://localhost:8080/"
    },
    "executionInfo": {
     "elapsed": 33877,
     "status": "ok",
     "timestamp": 1648278472344,
     "user": {
      "displayName": "Mark Angelo Nicolas",
      "photoUrl": "https://lh3.googleusercontent.com/a-/AOh14Gha95NANwDGK-NOWMbw3tJZ3iDjf5aU6UlGFBL-rg=s64",
      "userId": "13266928597688411588"
     },
     "user_tz": -480
    },
    "id": "QWA2xbck2FOt",
    "outputId": "12163987-4dab-4976-80c5-0574128b4a3d"
   },
   "outputs": [
    {
     "data": {
      "text/plain": [
       "array([[0.27450982, 0.3137255 , 0.32156864, ..., 0.41568628, 0.42745098,\n",
       "        0.32156864],\n",
       "       [0.5921569 , 0.5882353 , 0.5764706 , ..., 0.75686276, 0.7176471 ,\n",
       "        0.72156864],\n",
       "       [0.90588236, 0.83137256, 0.6117647 , ..., 0.34509805, 0.43137255,\n",
       "        0.59607846],\n",
       "       ...,\n",
       "       [0.3019608 , 0.30588236, 0.30980393, ..., 0.49019608, 0.2627451 ,\n",
       "        0.26666668],\n",
       "       [0.33333334, 0.32941177, 0.3529412 , ..., 0.22745098, 0.28627452,\n",
       "        0.32941177],\n",
       "       [1.        , 0.99607843, 1.        , ..., 0.99607843, 1.        ,\n",
       "        1.        ]], dtype=float32)"
      ]
     },
     "execution_count": 10,
     "metadata": {},
     "output_type": "execute_result"
    }
   ],
   "source": [
    "x_data = np.array(list(map(str.split, x_data)), np.float32)\n",
    "x_data/=255\n",
    "x_data[:10]"
   ]
  },
  {
   "cell_type": "code",
   "execution_count": null,
   "metadata": {
    "colab": {
     "base_uri": "https://localhost:8080/"
    },
    "executionInfo": {
     "elapsed": 31,
     "status": "ok",
     "timestamp": 1648278472345,
     "user": {
      "displayName": "Mark Angelo Nicolas",
      "photoUrl": "https://lh3.googleusercontent.com/a-/AOh14Gha95NANwDGK-NOWMbw3tJZ3iDjf5aU6UlGFBL-rg=s64",
      "userId": "13266928597688411588"
     },
     "user_tz": -480
    },
    "id": "0cggYqtq2MG2",
    "outputId": "1e52ff7f-b2b1-4a62-e4b0-0fe216e75fd4"
   },
   "outputs": [
    {
     "data": {
      "text/plain": [
       "(62923, 48, 48, 1)"
      ]
     },
     "execution_count": 11,
     "metadata": {},
     "output_type": "execute_result"
    }
   ],
   "source": [
    "x_data = x_data.reshape(-1, 48, 48, 1)\n",
    "x_data.shape"
   ]
  },
  {
   "cell_type": "code",
   "execution_count": null,
   "metadata": {
    "colab": {
     "base_uri": "https://localhost:8080/"
    },
    "executionInfo": {
     "elapsed": 24,
     "status": "ok",
     "timestamp": 1648278472346,
     "user": {
      "displayName": "Mark Angelo Nicolas",
      "photoUrl": "https://lh3.googleusercontent.com/a-/AOh14Gha95NANwDGK-NOWMbw3tJZ3iDjf5aU6UlGFBL-rg=s64",
      "userId": "13266928597688411588"
     },
     "user_tz": -480
    },
    "id": "iEyymIZ92OvQ",
    "outputId": "18fdb114-c5e4-4496-a8f2-6c15a76623ec"
   },
   "outputs": [
    {
     "data": {
      "text/plain": [
       "(62923, 1)"
      ]
     },
     "execution_count": 12,
     "metadata": {},
     "output_type": "execute_result"
    }
   ],
   "source": [
    "y_data = np.array(y_data)\n",
    "y_data = y_data.reshape(y_data.shape[0], 1)\n",
    "y_data.shape"
   ]
  },
  {
   "cell_type": "code",
   "execution_count": null,
   "metadata": {
    "colab": {
     "base_uri": "https://localhost:8080/"
    },
    "executionInfo": {
     "elapsed": 1308,
     "status": "ok",
     "timestamp": 1648278473633,
     "user": {
      "displayName": "Mark Angelo Nicolas",
      "photoUrl": "https://lh3.googleusercontent.com/a-/AOh14Gha95NANwDGK-NOWMbw3tJZ3iDjf5aU6UlGFBL-rg=s64",
      "userId": "13266928597688411588"
     },
     "user_tz": -480
    },
    "id": "EC811OQy2PSK",
    "outputId": "09fc1ac8-844e-456c-a63f-cdc3bba985ac"
   },
   "outputs": [
    {
     "data": {
      "text/plain": [
       "((56630, 48, 48, 1), (6293, 48, 48, 1), (56630, 1), (6293, 1))"
      ]
     },
     "execution_count": 13,
     "metadata": {},
     "output_type": "execute_result"
    }
   ],
   "source": [
    "x_train, x_test, y_train, y_test = train_test_split(x_data, \n",
    "                                                    y_data, \n",
    "                                                    test_size = 0.1,\n",
    "                                                    shuffle=True, \n",
    "                                                    random_state = 42)\n",
    "x_train.shape, x_test.shape, y_train.shape, y_test.shape"
   ]
  },
  {
   "cell_type": "code",
   "execution_count": null,
   "metadata": {
    "colab": {
     "base_uri": "https://localhost:8080/"
    },
    "executionInfo": {
     "elapsed": 27,
     "status": "ok",
     "timestamp": 1648278473634,
     "user": {
      "displayName": "Mark Angelo Nicolas",
      "photoUrl": "https://lh3.googleusercontent.com/a-/AOh14Gha95NANwDGK-NOWMbw3tJZ3iDjf5aU6UlGFBL-rg=s64",
      "userId": "13266928597688411588"
     },
     "user_tz": -480
    },
    "id": "Zso8QnR02SwG",
    "outputId": "4d221414-63a2-4a53-94a0-f5d444cc17d9"
   },
   "outputs": [
    {
     "data": {
      "text/plain": [
       "(56630, 7)"
      ]
     },
     "execution_count": 14,
     "metadata": {},
     "output_type": "execute_result"
    }
   ],
   "source": [
    "y_train = np_utils.to_categorical(y_train, 7)\n",
    "y_train.shape"
   ]
  },
  {
   "cell_type": "code",
   "execution_count": null,
   "metadata": {
    "colab": {
     "base_uri": "https://localhost:8080/"
    },
    "executionInfo": {
     "elapsed": 23,
     "status": "ok",
     "timestamp": 1648278473635,
     "user": {
      "displayName": "Mark Angelo Nicolas",
      "photoUrl": "https://lh3.googleusercontent.com/a-/AOh14Gha95NANwDGK-NOWMbw3tJZ3iDjf5aU6UlGFBL-rg=s64",
      "userId": "13266928597688411588"
     },
     "user_tz": -480
    },
    "id": "VKx9oIjT2Vi8",
    "outputId": "66dbebb7-45da-46a4-91a4-bb9687600325"
   },
   "outputs": [
    {
     "data": {
      "text/plain": [
       "(6293, 7)"
      ]
     },
     "execution_count": 15,
     "metadata": {},
     "output_type": "execute_result"
    }
   ],
   "source": [
    "y_test = np_utils.to_categorical(y_test, 7)\n",
    "y_test.shape"
   ]
  },
  {
   "cell_type": "code",
   "execution_count": null,
   "metadata": {
    "id": "EytV2Se72W7C"
   },
   "outputs": [],
   "source": [
    "chk_path = 'best_model.h5'\n",
    "checkpoint = ModelCheckpoint(\n",
    "    filepath=chk_path,\n",
    "    save_best_only=True,\n",
    "    verbose=1,\n",
    "    mode='min',\n",
    "    monitor='val_loss'\n",
    ")\n",
    "\n",
    "lr_scheduler = ReduceLROnPlateau(\n",
    "    monitor='val_loss',\n",
    "    factor=0.5,\n",
    "    patience=7,\n",
    "    min_lr=1e-7,\n",
    "    verbose=1,\n",
    ")\n",
    "\n",
    "early_stopping = EarlyStopping(\n",
    "    monitor='val_loss',\n",
    "    min_delta=0.00005,\n",
    "    patience=11,\n",
    "    verbose=1,\n",
    "    restore_best_weights=True,\n",
    ")\n",
    "\n",
    "callbacks = [\n",
    "    early_stopping,\n",
    "    checkpoint,\n",
    "    lr_scheduler\n",
    "]"
   ]
  },
  {
   "cell_type": "code",
   "execution_count": null,
   "metadata": {
    "id": "HKAKxJ4s2caq"
   },
   "outputs": [],
   "source": [
    "def get_model():\n",
    "  model = Sequential([\n",
    "      Input((48, 48, 1)),\n",
    "\n",
    "      Conv2D(32, kernel_size=(3,3), strides=(1,1), padding='valid'),\n",
    "      BatchNormalization(axis=3),\n",
    "      Activation('relu'),\n",
    "      Dropout(0.2),\n",
    "\n",
    "      Conv2D(64, (3,3), strides=(1,1), padding = 'same'),\n",
    "      BatchNormalization(axis=3),\n",
    "      Activation('relu'),\n",
    "      Dropout(0.2),\n",
    "\n",
    "      MaxPooling2D((2,2)),\n",
    "\n",
    "      Conv2D(64, (3,3), strides=(1,1), padding = 'valid'),\n",
    "      BatchNormalization(axis=3),\n",
    "      Activation('relu'),\n",
    "      Dropout(0.2),\n",
    "      \n",
    "      Conv2D(128, (3,3), strides=(1,1), padding = 'same'),\n",
    "      BatchNormalization(axis=3),\n",
    "      Activation('relu'),\n",
    "      Dropout(0.2),\n",
    "\n",
    "      MaxPooling2D((2,2)),\n",
    "\n",
    "      Conv2D(128, (3,3), strides=(1,1), padding = 'valid'),\n",
    "      BatchNormalization(axis=3),\n",
    "      Activation('relu'),\n",
    "      Dropout(0.2),\n",
    "      \n",
    "      MaxPooling2D((2,2)),\n",
    "\n",
    "      Flatten(),\n",
    "      Dense(200, activation='relu'),\n",
    "      Dropout(0.5),\n",
    "      Dense(7, activation = 'softmax')\n",
    "  ])\n",
    "  adam = keras.optimizers.Adam(learning_rate=0.0001)\n",
    "  model.compile(optimizer=adam, loss='categorical_crossentropy', metrics=['accuracy'])\n",
    "  model.summary()\n",
    "  return model"
   ]
  },
  {
   "cell_type": "code",
   "execution_count": null,
   "metadata": {
    "colab": {
     "base_uri": "https://localhost:8080/"
    },
    "executionInfo": {
     "elapsed": 3974,
     "status": "ok",
     "timestamp": 1648278477593,
     "user": {
      "displayName": "Mark Angelo Nicolas",
      "photoUrl": "https://lh3.googleusercontent.com/a-/AOh14Gha95NANwDGK-NOWMbw3tJZ3iDjf5aU6UlGFBL-rg=s64",
      "userId": "13266928597688411588"
     },
     "user_tz": -480
    },
    "id": "hMsLdA4-2hKI",
    "outputId": "778a1ea1-df01-4a52-fdb8-5d37d85fc878"
   },
   "outputs": [
    {
     "name": "stdout",
     "output_type": "stream",
     "text": [
      "Model: \"sequential\"\n",
      "_________________________________________________________________\n",
      " Layer (type)                Output Shape              Param #   \n",
      "=================================================================\n",
      " conv2d (Conv2D)             (None, 46, 46, 32)        320       \n",
      "                                                                 \n",
      " batch_normalization (BatchN  (None, 46, 46, 32)       128       \n",
      " ormalization)                                                   \n",
      "                                                                 \n",
      " activation (Activation)     (None, 46, 46, 32)        0         \n",
      "                                                                 \n",
      " dropout (Dropout)           (None, 46, 46, 32)        0         \n",
      "                                                                 \n",
      " conv2d_1 (Conv2D)           (None, 46, 46, 64)        18496     \n",
      "                                                                 \n",
      " batch_normalization_1 (Batc  (None, 46, 46, 64)       256       \n",
      " hNormalization)                                                 \n",
      "                                                                 \n",
      " activation_1 (Activation)   (None, 46, 46, 64)        0         \n",
      "                                                                 \n",
      " dropout_1 (Dropout)         (None, 46, 46, 64)        0         \n",
      "                                                                 \n",
      " max_pooling2d (MaxPooling2D  (None, 23, 23, 64)       0         \n",
      " )                                                               \n",
      "                                                                 \n",
      " conv2d_2 (Conv2D)           (None, 21, 21, 64)        36928     \n",
      "                                                                 \n",
      " batch_normalization_2 (Batc  (None, 21, 21, 64)       256       \n",
      " hNormalization)                                                 \n",
      "                                                                 \n",
      " activation_2 (Activation)   (None, 21, 21, 64)        0         \n",
      "                                                                 \n",
      " dropout_2 (Dropout)         (None, 21, 21, 64)        0         \n",
      "                                                                 \n",
      " conv2d_3 (Conv2D)           (None, 21, 21, 128)       73856     \n",
      "                                                                 \n",
      " batch_normalization_3 (Batc  (None, 21, 21, 128)      512       \n",
      " hNormalization)                                                 \n",
      "                                                                 \n",
      " activation_3 (Activation)   (None, 21, 21, 128)       0         \n",
      "                                                                 \n",
      " dropout_3 (Dropout)         (None, 21, 21, 128)       0         \n",
      "                                                                 \n",
      " max_pooling2d_1 (MaxPooling  (None, 10, 10, 128)      0         \n",
      " 2D)                                                             \n",
      "                                                                 \n",
      " conv2d_4 (Conv2D)           (None, 8, 8, 128)         147584    \n",
      "                                                                 \n",
      " batch_normalization_4 (Batc  (None, 8, 8, 128)        512       \n",
      " hNormalization)                                                 \n",
      "                                                                 \n",
      " activation_4 (Activation)   (None, 8, 8, 128)         0         \n",
      "                                                                 \n",
      " dropout_4 (Dropout)         (None, 8, 8, 128)         0         \n",
      "                                                                 \n",
      " max_pooling2d_2 (MaxPooling  (None, 4, 4, 128)        0         \n",
      " 2D)                                                             \n",
      "                                                                 \n",
      " flatten (Flatten)           (None, 2048)              0         \n",
      "                                                                 \n",
      " dense (Dense)               (None, 200)               409800    \n",
      "                                                                 \n",
      " dropout_5 (Dropout)         (None, 200)               0         \n",
      "                                                                 \n",
      " dense_1 (Dense)             (None, 7)                 1407      \n",
      "                                                                 \n",
      "=================================================================\n",
      "Total params: 690,055\n",
      "Trainable params: 689,223\n",
      "Non-trainable params: 832\n",
      "_________________________________________________________________\n"
     ]
    }
   ],
   "source": [
    "model = get_model()"
   ]
  },
  {
   "cell_type": "code",
   "execution_count": null,
   "metadata": {
    "colab": {
     "base_uri": "https://localhost:8080/"
    },
    "executionInfo": {
     "elapsed": 5710786,
     "status": "ok",
     "timestamp": 1648284188361,
     "user": {
      "displayName": "Mark Angelo Nicolas",
      "photoUrl": "https://lh3.googleusercontent.com/a-/AOh14Gha95NANwDGK-NOWMbw3tJZ3iDjf5aU6UlGFBL-rg=s64",
      "userId": "13266928597688411588"
     },
     "user_tz": -480
    },
    "id": "VfoRWSlS2lcK",
    "outputId": "42a63516-a232-4446-c182-7c5568fc5cdb"
   },
   "outputs": [
    {
     "name": "stdout",
     "output_type": "stream",
     "text": [
      "Epoch 1/100\n",
      "1770/1770 [==============================] - ETA: 0s - loss: 1.8671 - accuracy: 0.2483\n",
      "Epoch 1: val_loss improved from inf to 1.80706, saving model to second_model.h5\n",
      "1770/1770 [==============================] - 70s 33ms/step - loss: 1.8671 - accuracy: 0.2483 - val_loss: 1.8071 - val_accuracy: 0.2720 - lr: 1.0000e-04\n",
      "Epoch 2/100\n",
      "1769/1770 [============================>.] - ETA: 0s - loss: 1.6338 - accuracy: 0.3644\n",
      "Epoch 2: val_loss improved from 1.80706 to 1.55588, saving model to second_model.h5\n",
      "1770/1770 [==============================] - 58s 33ms/step - loss: 1.6337 - accuracy: 0.3644 - val_loss: 1.5559 - val_accuracy: 0.4200 - lr: 1.0000e-04\n",
      "Epoch 3/100\n",
      "1769/1770 [============================>.] - ETA: 0s - loss: 1.4723 - accuracy: 0.4353\n",
      "Epoch 3: val_loss improved from 1.55588 to 1.43908, saving model to second_model.h5\n",
      "1770/1770 [==============================] - 57s 32ms/step - loss: 1.4723 - accuracy: 0.4353 - val_loss: 1.4391 - val_accuracy: 0.4507 - lr: 1.0000e-04\n",
      "Epoch 4/100\n",
      "1769/1770 [============================>.] - ETA: 0s - loss: 1.3670 - accuracy: 0.4786\n",
      "Epoch 4: val_loss improved from 1.43908 to 1.28331, saving model to second_model.h5\n",
      "1770/1770 [==============================] - 57s 32ms/step - loss: 1.3669 - accuracy: 0.4786 - val_loss: 1.2833 - val_accuracy: 0.5263 - lr: 1.0000e-04\n",
      "Epoch 5/100\n",
      "1769/1770 [============================>.] - ETA: 0s - loss: 1.2856 - accuracy: 0.5109\n",
      "Epoch 5: val_loss improved from 1.28331 to 1.27275, saving model to second_model.h5\n",
      "1770/1770 [==============================] - 57s 32ms/step - loss: 1.2857 - accuracy: 0.5108 - val_loss: 1.2728 - val_accuracy: 0.5296 - lr: 1.0000e-04\n",
      "Epoch 6/100\n",
      "1769/1770 [============================>.] - ETA: 0s - loss: 1.2218 - accuracy: 0.5333\n",
      "Epoch 6: val_loss improved from 1.27275 to 1.16752, saving model to second_model.h5\n",
      "1770/1770 [==============================] - 57s 32ms/step - loss: 1.2218 - accuracy: 0.5333 - val_loss: 1.1675 - val_accuracy: 0.5673 - lr: 1.0000e-04\n",
      "Epoch 7/100\n",
      "1769/1770 [============================>.] - ETA: 0s - loss: 1.1707 - accuracy: 0.5544\n",
      "Epoch 7: val_loss improved from 1.16752 to 1.15454, saving model to second_model.h5\n",
      "1770/1770 [==============================] - 57s 32ms/step - loss: 1.1708 - accuracy: 0.5543 - val_loss: 1.1545 - val_accuracy: 0.5724 - lr: 1.0000e-04\n",
      "Epoch 8/100\n",
      "1769/1770 [============================>.] - ETA: 0s - loss: 1.1293 - accuracy: 0.5702\n",
      "Epoch 8: val_loss improved from 1.15454 to 1.11172, saving model to second_model.h5\n",
      "1770/1770 [==============================] - 57s 32ms/step - loss: 1.1294 - accuracy: 0.5702 - val_loss: 1.1117 - val_accuracy: 0.5733 - lr: 1.0000e-04\n",
      "Epoch 9/100\n",
      "1769/1770 [============================>.] - ETA: 0s - loss: 1.0909 - accuracy: 0.5848\n",
      "Epoch 9: val_loss improved from 1.11172 to 1.05649, saving model to second_model.h5\n",
      "1770/1770 [==============================] - 57s 32ms/step - loss: 1.0908 - accuracy: 0.5847 - val_loss: 1.0565 - val_accuracy: 0.6067 - lr: 1.0000e-04\n",
      "Epoch 10/100\n",
      "1769/1770 [============================>.] - ETA: 0s - loss: 1.0556 - accuracy: 0.5981\n",
      "Epoch 10: val_loss improved from 1.05649 to 1.04524, saving model to second_model.h5\n",
      "1770/1770 [==============================] - 57s 32ms/step - loss: 1.0558 - accuracy: 0.5981 - val_loss: 1.0452 - val_accuracy: 0.6005 - lr: 1.0000e-04\n",
      "Epoch 11/100\n",
      "1769/1770 [============================>.] - ETA: 0s - loss: 1.0332 - accuracy: 0.6055\n",
      "Epoch 11: val_loss improved from 1.04524 to 1.00872, saving model to second_model.h5\n",
      "1770/1770 [==============================] - 57s 32ms/step - loss: 1.0331 - accuracy: 0.6056 - val_loss: 1.0087 - val_accuracy: 0.6115 - lr: 1.0000e-04\n",
      "Epoch 12/100\n",
      "1769/1770 [============================>.] - ETA: 0s - loss: 0.9990 - accuracy: 0.6205\n",
      "Epoch 12: val_loss improved from 1.00872 to 0.99249, saving model to second_model.h5\n",
      "1770/1770 [==============================] - 57s 32ms/step - loss: 0.9990 - accuracy: 0.6205 - val_loss: 0.9925 - val_accuracy: 0.6221 - lr: 1.0000e-04\n",
      "Epoch 13/100\n",
      "1769/1770 [============================>.] - ETA: 0s - loss: 0.9756 - accuracy: 0.6257\n",
      "Epoch 13: val_loss improved from 0.99249 to 0.97840, saving model to second_model.h5\n",
      "1770/1770 [==============================] - 57s 32ms/step - loss: 0.9756 - accuracy: 0.6257 - val_loss: 0.9784 - val_accuracy: 0.6328 - lr: 1.0000e-04\n",
      "Epoch 14/100\n",
      "1769/1770 [============================>.] - ETA: 0s - loss: 0.9529 - accuracy: 0.6358\n",
      "Epoch 14: val_loss improved from 0.97840 to 0.93211, saving model to second_model.h5\n",
      "1770/1770 [==============================] - 57s 32ms/step - loss: 0.9530 - accuracy: 0.6358 - val_loss: 0.9321 - val_accuracy: 0.6545 - lr: 1.0000e-04\n",
      "Epoch 15/100\n",
      "1769/1770 [============================>.] - ETA: 0s - loss: 0.9322 - accuracy: 0.6443\n",
      "Epoch 15: val_loss improved from 0.93211 to 0.91465, saving model to second_model.h5\n",
      "1770/1770 [==============================] - 57s 32ms/step - loss: 0.9320 - accuracy: 0.6444 - val_loss: 0.9147 - val_accuracy: 0.6641 - lr: 1.0000e-04\n",
      "Epoch 16/100\n",
      "1769/1770 [============================>.] - ETA: 0s - loss: 0.9176 - accuracy: 0.6512\n",
      "Epoch 16: val_loss improved from 0.91465 to 0.91187, saving model to second_model.h5\n",
      "1770/1770 [==============================] - 57s 32ms/step - loss: 0.9175 - accuracy: 0.6513 - val_loss: 0.9119 - val_accuracy: 0.6555 - lr: 1.0000e-04\n",
      "Epoch 17/100\n",
      "1769/1770 [============================>.] - ETA: 0s - loss: 0.8974 - accuracy: 0.6578\n",
      "Epoch 17: val_loss improved from 0.91187 to 0.90824, saving model to second_model.h5\n",
      "1770/1770 [==============================] - 57s 32ms/step - loss: 0.8973 - accuracy: 0.6578 - val_loss: 0.9082 - val_accuracy: 0.6544 - lr: 1.0000e-04\n",
      "Epoch 18/100\n",
      "1769/1770 [============================>.] - ETA: 0s - loss: 0.8808 - accuracy: 0.6638\n",
      "Epoch 18: val_loss improved from 0.90824 to 0.86953, saving model to second_model.h5\n",
      "1770/1770 [==============================] - 57s 32ms/step - loss: 0.8810 - accuracy: 0.6638 - val_loss: 0.8695 - val_accuracy: 0.6787 - lr: 1.0000e-04\n",
      "Epoch 19/100\n",
      "1769/1770 [============================>.] - ETA: 0s - loss: 0.8630 - accuracy: 0.6709\n",
      "Epoch 19: val_loss improved from 0.86953 to 0.84953, saving model to second_model.h5\n",
      "1770/1770 [==============================] - 57s 32ms/step - loss: 0.8629 - accuracy: 0.6709 - val_loss: 0.8495 - val_accuracy: 0.6784 - lr: 1.0000e-04\n",
      "Epoch 20/100\n",
      "1769/1770 [============================>.] - ETA: 0s - loss: 0.8461 - accuracy: 0.6775\n",
      "Epoch 20: val_loss did not improve from 0.84953\n",
      "1770/1770 [==============================] - 57s 32ms/step - loss: 0.8461 - accuracy: 0.6775 - val_loss: 0.8633 - val_accuracy: 0.6714 - lr: 1.0000e-04\n",
      "Epoch 21/100\n",
      "1769/1770 [============================>.] - ETA: 0s - loss: 0.8367 - accuracy: 0.6836\n",
      "Epoch 21: val_loss did not improve from 0.84953\n",
      "1770/1770 [==============================] - 57s 32ms/step - loss: 0.8367 - accuracy: 0.6837 - val_loss: 0.8571 - val_accuracy: 0.6787 - lr: 1.0000e-04\n",
      "Epoch 22/100\n",
      "1769/1770 [============================>.] - ETA: 0s - loss: 0.8143 - accuracy: 0.6893\n",
      "Epoch 22: val_loss improved from 0.84953 to 0.81444, saving model to second_model.h5\n",
      "1770/1770 [==============================] - 57s 32ms/step - loss: 0.8143 - accuracy: 0.6892 - val_loss: 0.8144 - val_accuracy: 0.6984 - lr: 1.0000e-04\n",
      "Epoch 23/100\n",
      "1769/1770 [============================>.] - ETA: 0s - loss: 0.8033 - accuracy: 0.6980\n",
      "Epoch 23: val_loss improved from 0.81444 to 0.79983, saving model to second_model.h5\n",
      "1770/1770 [==============================] - 56s 32ms/step - loss: 0.8033 - accuracy: 0.6980 - val_loss: 0.7998 - val_accuracy: 0.7059 - lr: 1.0000e-04\n",
      "Epoch 24/100\n",
      "1769/1770 [============================>.] - ETA: 0s - loss: 0.7892 - accuracy: 0.7000\n",
      "Epoch 24: val_loss did not improve from 0.79983\n",
      "1770/1770 [==============================] - 56s 32ms/step - loss: 0.7892 - accuracy: 0.7001 - val_loss: 0.8194 - val_accuracy: 0.6957 - lr: 1.0000e-04\n",
      "Epoch 25/100\n",
      "1769/1770 [============================>.] - ETA: 0s - loss: 0.7788 - accuracy: 0.7070\n",
      "Epoch 25: val_loss improved from 0.79983 to 0.79501, saving model to second_model.h5\n",
      "1770/1770 [==============================] - 56s 32ms/step - loss: 0.7788 - accuracy: 0.7070 - val_loss: 0.7950 - val_accuracy: 0.7071 - lr: 1.0000e-04\n",
      "Epoch 26/100\n",
      "1769/1770 [============================>.] - ETA: 0s - loss: 0.7665 - accuracy: 0.7118\n",
      "Epoch 26: val_loss improved from 0.79501 to 0.77854, saving model to second_model.h5\n",
      "1770/1770 [==============================] - 56s 32ms/step - loss: 0.7664 - accuracy: 0.7118 - val_loss: 0.7785 - val_accuracy: 0.7133 - lr: 1.0000e-04\n",
      "Epoch 27/100\n",
      "1769/1770 [============================>.] - ETA: 0s - loss: 0.7480 - accuracy: 0.7174\n",
      "Epoch 27: val_loss did not improve from 0.77854\n",
      "1770/1770 [==============================] - 56s 32ms/step - loss: 0.7481 - accuracy: 0.7173 - val_loss: 0.8098 - val_accuracy: 0.7052 - lr: 1.0000e-04\n",
      "Epoch 28/100\n",
      "1769/1770 [============================>.] - ETA: 0s - loss: 0.7420 - accuracy: 0.7203\n",
      "Epoch 28: val_loss did not improve from 0.77854\n",
      "1770/1770 [==============================] - 56s 32ms/step - loss: 0.7420 - accuracy: 0.7203 - val_loss: 0.8034 - val_accuracy: 0.7073 - lr: 1.0000e-04\n",
      "Epoch 29/100\n",
      "1769/1770 [============================>.] - ETA: 0s - loss: 0.7255 - accuracy: 0.7273\n",
      "Epoch 29: val_loss improved from 0.77854 to 0.75391, saving model to second_model.h5\n",
      "1770/1770 [==============================] - 58s 33ms/step - loss: 0.7256 - accuracy: 0.7272 - val_loss: 0.7539 - val_accuracy: 0.7257 - lr: 1.0000e-04\n",
      "Epoch 30/100\n",
      "1769/1770 [============================>.] - ETA: 0s - loss: 0.7156 - accuracy: 0.7314\n",
      "Epoch 30: val_loss improved from 0.75391 to 0.75264, saving model to second_model.h5\n",
      "1770/1770 [==============================] - 57s 32ms/step - loss: 0.7157 - accuracy: 0.7314 - val_loss: 0.7526 - val_accuracy: 0.7195 - lr: 1.0000e-04\n",
      "Epoch 31/100\n",
      "1769/1770 [============================>.] - ETA: 0s - loss: 0.7077 - accuracy: 0.7353\n",
      "Epoch 31: val_loss did not improve from 0.75264\n",
      "1770/1770 [==============================] - 56s 32ms/step - loss: 0.7076 - accuracy: 0.7354 - val_loss: 0.7604 - val_accuracy: 0.7194 - lr: 1.0000e-04\n",
      "Epoch 32/100\n",
      "1769/1770 [============================>.] - ETA: 0s - loss: 0.6897 - accuracy: 0.7411\n",
      "Epoch 32: val_loss improved from 0.75264 to 0.72554, saving model to second_model.h5\n",
      "1770/1770 [==============================] - 57s 32ms/step - loss: 0.6898 - accuracy: 0.7410 - val_loss: 0.7255 - val_accuracy: 0.7430 - lr: 1.0000e-04\n",
      "Epoch 33/100\n",
      "1769/1770 [============================>.] - ETA: 0s - loss: 0.6840 - accuracy: 0.7431\n",
      "Epoch 33: val_loss did not improve from 0.72554\n",
      "1770/1770 [==============================] - 56s 32ms/step - loss: 0.6840 - accuracy: 0.7431 - val_loss: 0.7466 - val_accuracy: 0.7232 - lr: 1.0000e-04\n",
      "Epoch 34/100\n",
      "1769/1770 [============================>.] - ETA: 0s - loss: 0.6732 - accuracy: 0.7481\n",
      "Epoch 34: val_loss improved from 0.72554 to 0.70957, saving model to second_model.h5\n",
      "1770/1770 [==============================] - 57s 32ms/step - loss: 0.6732 - accuracy: 0.7481 - val_loss: 0.7096 - val_accuracy: 0.7332 - lr: 1.0000e-04\n",
      "Epoch 35/100\n",
      "1769/1770 [============================>.] - ETA: 0s - loss: 0.6630 - accuracy: 0.7524\n",
      "Epoch 35: val_loss did not improve from 0.70957\n",
      "1770/1770 [==============================] - 56s 32ms/step - loss: 0.6630 - accuracy: 0.7524 - val_loss: 0.7143 - val_accuracy: 0.7448 - lr: 1.0000e-04\n",
      "Epoch 36/100\n",
      "1770/1770 [==============================] - ETA: 0s - loss: 0.6556 - accuracy: 0.7547\n",
      "Epoch 36: val_loss improved from 0.70957 to 0.70410, saving model to second_model.h5\n",
      "1770/1770 [==============================] - 57s 32ms/step - loss: 0.6556 - accuracy: 0.7547 - val_loss: 0.7041 - val_accuracy: 0.7446 - lr: 1.0000e-04\n",
      "Epoch 37/100\n",
      "1769/1770 [============================>.] - ETA: 0s - loss: 0.6425 - accuracy: 0.7593\n",
      "Epoch 37: val_loss improved from 0.70410 to 0.70280, saving model to second_model.h5\n",
      "1770/1770 [==============================] - 57s 32ms/step - loss: 0.6424 - accuracy: 0.7593 - val_loss: 0.7028 - val_accuracy: 0.7419 - lr: 1.0000e-04\n",
      "Epoch 38/100\n",
      "1769/1770 [============================>.] - ETA: 0s - loss: 0.6359 - accuracy: 0.7626\n",
      "Epoch 38: val_loss improved from 0.70280 to 0.69967, saving model to second_model.h5\n",
      "1770/1770 [==============================] - 57s 32ms/step - loss: 0.6359 - accuracy: 0.7626 - val_loss: 0.6997 - val_accuracy: 0.7430 - lr: 1.0000e-04\n",
      "Epoch 39/100\n",
      "1769/1770 [============================>.] - ETA: 0s - loss: 0.6230 - accuracy: 0.7663\n",
      "Epoch 39: val_loss did not improve from 0.69967\n",
      "1770/1770 [==============================] - 58s 33ms/step - loss: 0.6230 - accuracy: 0.7663 - val_loss: 0.7044 - val_accuracy: 0.7424 - lr: 1.0000e-04\n",
      "Epoch 40/100\n",
      "1769/1770 [============================>.] - ETA: 0s - loss: 0.6182 - accuracy: 0.7698\n",
      "Epoch 40: val_loss improved from 0.69967 to 0.69663, saving model to second_model.h5\n",
      "1770/1770 [==============================] - 57s 32ms/step - loss: 0.6182 - accuracy: 0.7698 - val_loss: 0.6966 - val_accuracy: 0.7504 - lr: 1.0000e-04\n",
      "Epoch 41/100\n",
      "1769/1770 [============================>.] - ETA: 0s - loss: 0.6075 - accuracy: 0.7736\n",
      "Epoch 41: val_loss improved from 0.69663 to 0.67203, saving model to second_model.h5\n",
      "1770/1770 [==============================] - 57s 32ms/step - loss: 0.6074 - accuracy: 0.7736 - val_loss: 0.6720 - val_accuracy: 0.7631 - lr: 1.0000e-04\n",
      "Epoch 42/100\n",
      "1769/1770 [============================>.] - ETA: 0s - loss: 0.5994 - accuracy: 0.7774\n",
      "Epoch 42: val_loss did not improve from 0.67203\n",
      "1770/1770 [==============================] - 57s 32ms/step - loss: 0.5994 - accuracy: 0.7774 - val_loss: 0.6743 - val_accuracy: 0.7529 - lr: 1.0000e-04\n",
      "Epoch 43/100\n",
      "1769/1770 [============================>.] - ETA: 0s - loss: 0.5903 - accuracy: 0.7793\n",
      "Epoch 43: val_loss did not improve from 0.67203\n",
      "1770/1770 [==============================] - 57s 32ms/step - loss: 0.5902 - accuracy: 0.7793 - val_loss: 0.6878 - val_accuracy: 0.7512 - lr: 1.0000e-04\n",
      "Epoch 44/100\n",
      "1769/1770 [============================>.] - ETA: 0s - loss: 0.5848 - accuracy: 0.7818\n",
      "Epoch 44: val_loss did not improve from 0.67203\n",
      "1770/1770 [==============================] - 57s 32ms/step - loss: 0.5848 - accuracy: 0.7818 - val_loss: 0.6773 - val_accuracy: 0.7621 - lr: 1.0000e-04\n",
      "Epoch 45/100\n",
      "1769/1770 [============================>.] - ETA: 0s - loss: 0.5805 - accuracy: 0.7847\n",
      "Epoch 45: val_loss improved from 0.67203 to 0.64429, saving model to second_model.h5\n",
      "1770/1770 [==============================] - 57s 32ms/step - loss: 0.5804 - accuracy: 0.7847 - val_loss: 0.6443 - val_accuracy: 0.7688 - lr: 1.0000e-04\n",
      "Epoch 46/100\n",
      "1769/1770 [============================>.] - ETA: 0s - loss: 0.5736 - accuracy: 0.7866\n",
      "Epoch 46: val_loss did not improve from 0.64429\n",
      "1770/1770 [==============================] - 57s 32ms/step - loss: 0.5737 - accuracy: 0.7867 - val_loss: 0.6445 - val_accuracy: 0.7736 - lr: 1.0000e-04\n",
      "Epoch 47/100\n",
      "1769/1770 [============================>.] - ETA: 0s - loss: 0.5615 - accuracy: 0.7910\n",
      "Epoch 47: val_loss did not improve from 0.64429\n",
      "1770/1770 [==============================] - 57s 32ms/step - loss: 0.5615 - accuracy: 0.7910 - val_loss: 0.6532 - val_accuracy: 0.7670 - lr: 1.0000e-04\n",
      "Epoch 48/100\n",
      "1769/1770 [============================>.] - ETA: 0s - loss: 0.5545 - accuracy: 0.7943\n",
      "Epoch 48: val_loss did not improve from 0.64429\n",
      "1770/1770 [==============================] - 57s 32ms/step - loss: 0.5544 - accuracy: 0.7943 - val_loss: 0.6612 - val_accuracy: 0.7726 - lr: 1.0000e-04\n",
      "Epoch 49/100\n",
      "1769/1770 [============================>.] - ETA: 0s - loss: 0.5483 - accuracy: 0.7968\n",
      "Epoch 49: val_loss did not improve from 0.64429\n",
      "1770/1770 [==============================] - 58s 33ms/step - loss: 0.5482 - accuracy: 0.7968 - val_loss: 0.6467 - val_accuracy: 0.7694 - lr: 1.0000e-04\n",
      "Epoch 50/100\n",
      "1769/1770 [============================>.] - ETA: 0s - loss: 0.5396 - accuracy: 0.8013\n",
      "Epoch 50: val_loss improved from 0.64429 to 0.61566, saving model to second_model.h5\n",
      "1770/1770 [==============================] - 58s 33ms/step - loss: 0.5395 - accuracy: 0.8013 - val_loss: 0.6157 - val_accuracy: 0.7860 - lr: 1.0000e-04\n",
      "Epoch 51/100\n",
      "1769/1770 [============================>.] - ETA: 0s - loss: 0.5374 - accuracy: 0.7992\n",
      "Epoch 51: val_loss did not improve from 0.61566\n",
      "1770/1770 [==============================] - 57s 32ms/step - loss: 0.5373 - accuracy: 0.7993 - val_loss: 0.6392 - val_accuracy: 0.7799 - lr: 1.0000e-04\n",
      "Epoch 52/100\n",
      "1769/1770 [============================>.] - ETA: 0s - loss: 0.5303 - accuracy: 0.8048\n",
      "Epoch 52: val_loss did not improve from 0.61566\n",
      "1770/1770 [==============================] - 57s 32ms/step - loss: 0.5303 - accuracy: 0.8049 - val_loss: 0.6242 - val_accuracy: 0.7833 - lr: 1.0000e-04\n",
      "Epoch 53/100\n",
      "1769/1770 [============================>.] - ETA: 0s - loss: 0.5228 - accuracy: 0.8049\n",
      "Epoch 53: val_loss did not improve from 0.61566\n",
      "1770/1770 [==============================] - 57s 32ms/step - loss: 0.5227 - accuracy: 0.8049 - val_loss: 0.6408 - val_accuracy: 0.7767 - lr: 1.0000e-04\n",
      "Epoch 54/100\n",
      "1769/1770 [============================>.] - ETA: 0s - loss: 0.5170 - accuracy: 0.8091\n",
      "Epoch 54: val_loss did not improve from 0.61566\n",
      "1770/1770 [==============================] - 58s 32ms/step - loss: 0.5170 - accuracy: 0.8090 - val_loss: 0.6214 - val_accuracy: 0.7850 - lr: 1.0000e-04\n",
      "Epoch 55/100\n",
      "1769/1770 [============================>.] - ETA: 0s - loss: 0.5078 - accuracy: 0.8123\n",
      "Epoch 55: val_loss improved from 0.61566 to 0.60263, saving model to second_model.h5\n",
      "1770/1770 [==============================] - 57s 32ms/step - loss: 0.5078 - accuracy: 0.8123 - val_loss: 0.6026 - val_accuracy: 0.7882 - lr: 1.0000e-04\n",
      "Epoch 56/100\n",
      "1770/1770 [==============================] - ETA: 0s - loss: 0.5072 - accuracy: 0.8134\n",
      "Epoch 56: val_loss did not improve from 0.60263\n",
      "1770/1770 [==============================] - 57s 32ms/step - loss: 0.5072 - accuracy: 0.8134 - val_loss: 0.6104 - val_accuracy: 0.7906 - lr: 1.0000e-04\n",
      "Epoch 57/100\n",
      "1769/1770 [============================>.] - ETA: 0s - loss: 0.5017 - accuracy: 0.8147\n",
      "Epoch 57: val_loss improved from 0.60263 to 0.60049, saving model to second_model.h5\n",
      "1770/1770 [==============================] - 57s 32ms/step - loss: 0.5016 - accuracy: 0.8147 - val_loss: 0.6005 - val_accuracy: 0.7922 - lr: 1.0000e-04\n",
      "Epoch 58/100\n",
      "1769/1770 [============================>.] - ETA: 0s - loss: 0.4939 - accuracy: 0.8180\n",
      "Epoch 58: val_loss improved from 0.60049 to 0.59032, saving model to second_model.h5\n",
      "1770/1770 [==============================] - 57s 32ms/step - loss: 0.4940 - accuracy: 0.8179 - val_loss: 0.5903 - val_accuracy: 0.7988 - lr: 1.0000e-04\n",
      "Epoch 59/100\n",
      "1769/1770 [============================>.] - ETA: 0s - loss: 0.4912 - accuracy: 0.8180\n",
      "Epoch 59: val_loss did not improve from 0.59032\n",
      "1770/1770 [==============================] - 57s 32ms/step - loss: 0.4911 - accuracy: 0.8180 - val_loss: 0.6052 - val_accuracy: 0.7933 - lr: 1.0000e-04\n",
      "Epoch 60/100\n",
      "1769/1770 [============================>.] - ETA: 0s - loss: 0.4856 - accuracy: 0.8210\n",
      "Epoch 60: val_loss did not improve from 0.59032\n",
      "1770/1770 [==============================] - 57s 32ms/step - loss: 0.4857 - accuracy: 0.8209 - val_loss: 0.5989 - val_accuracy: 0.7972 - lr: 1.0000e-04\n",
      "Epoch 61/100\n",
      "1769/1770 [============================>.] - ETA: 0s - loss: 0.4754 - accuracy: 0.8237\n",
      "Epoch 61: val_loss improved from 0.59032 to 0.58609, saving model to second_model.h5\n",
      "1770/1770 [==============================] - 57s 32ms/step - loss: 0.4754 - accuracy: 0.8237 - val_loss: 0.5861 - val_accuracy: 0.7998 - lr: 1.0000e-04\n",
      "Epoch 62/100\n",
      "1769/1770 [============================>.] - ETA: 0s - loss: 0.4740 - accuracy: 0.8241\n",
      "Epoch 62: val_loss improved from 0.58609 to 0.58406, saving model to second_model.h5\n",
      "1770/1770 [==============================] - 57s 32ms/step - loss: 0.4740 - accuracy: 0.8241 - val_loss: 0.5841 - val_accuracy: 0.8050 - lr: 1.0000e-04\n",
      "Epoch 63/100\n",
      "1769/1770 [============================>.] - ETA: 0s - loss: 0.4695 - accuracy: 0.8266\n",
      "Epoch 63: val_loss did not improve from 0.58406\n",
      "1770/1770 [==============================] - 57s 32ms/step - loss: 0.4696 - accuracy: 0.8266 - val_loss: 0.5847 - val_accuracy: 0.8047 - lr: 1.0000e-04\n",
      "Epoch 64/100\n",
      "1769/1770 [============================>.] - ETA: 0s - loss: 0.4628 - accuracy: 0.8285\n",
      "Epoch 64: val_loss improved from 0.58406 to 0.58053, saving model to second_model.h5\n",
      "1770/1770 [==============================] - 57s 32ms/step - loss: 0.4628 - accuracy: 0.8285 - val_loss: 0.5805 - val_accuracy: 0.8107 - lr: 1.0000e-04\n",
      "Epoch 65/100\n",
      "1769/1770 [============================>.] - ETA: 0s - loss: 0.4609 - accuracy: 0.8306\n",
      "Epoch 65: val_loss did not improve from 0.58053\n",
      "1770/1770 [==============================] - 58s 33ms/step - loss: 0.4609 - accuracy: 0.8305 - val_loss: 0.5842 - val_accuracy: 0.8047 - lr: 1.0000e-04\n",
      "Epoch 66/100\n",
      "1769/1770 [============================>.] - ETA: 0s - loss: 0.4538 - accuracy: 0.8335\n",
      "Epoch 66: val_loss did not improve from 0.58053\n",
      "1770/1770 [==============================] - 57s 32ms/step - loss: 0.4537 - accuracy: 0.8335 - val_loss: 0.5822 - val_accuracy: 0.8066 - lr: 1.0000e-04\n",
      "Epoch 67/100\n",
      "1769/1770 [============================>.] - ETA: 0s - loss: 0.4525 - accuracy: 0.8338\n",
      "Epoch 67: val_loss improved from 0.58053 to 0.57501, saving model to second_model.h5\n",
      "1770/1770 [==============================] - 57s 32ms/step - loss: 0.4525 - accuracy: 0.8338 - val_loss: 0.5750 - val_accuracy: 0.8115 - lr: 1.0000e-04\n",
      "Epoch 68/100\n",
      "1769/1770 [============================>.] - ETA: 0s - loss: 0.4494 - accuracy: 0.8348\n",
      "Epoch 68: val_loss improved from 0.57501 to 0.56470, saving model to second_model.h5\n",
      "1770/1770 [==============================] - 57s 32ms/step - loss: 0.4493 - accuracy: 0.8348 - val_loss: 0.5647 - val_accuracy: 0.8168 - lr: 1.0000e-04\n",
      "Epoch 69/100\n",
      "1769/1770 [============================>.] - ETA: 0s - loss: 0.4465 - accuracy: 0.8363\n",
      "Epoch 69: val_loss did not improve from 0.56470\n",
      "1770/1770 [==============================] - 57s 32ms/step - loss: 0.4465 - accuracy: 0.8363 - val_loss: 0.5874 - val_accuracy: 0.8050 - lr: 1.0000e-04\n",
      "Epoch 70/100\n",
      "1769/1770 [============================>.] - ETA: 0s - loss: 0.4378 - accuracy: 0.8399\n",
      "Epoch 70: val_loss did not improve from 0.56470\n",
      "1770/1770 [==============================] - 57s 32ms/step - loss: 0.4379 - accuracy: 0.8399 - val_loss: 0.6075 - val_accuracy: 0.7910 - lr: 1.0000e-04\n",
      "Epoch 71/100\n",
      "1769/1770 [============================>.] - ETA: 0s - loss: 0.4371 - accuracy: 0.8401\n",
      "Epoch 71: val_loss did not improve from 0.56470\n",
      "1770/1770 [==============================] - 57s 32ms/step - loss: 0.4371 - accuracy: 0.8402 - val_loss: 0.6114 - val_accuracy: 0.7952 - lr: 1.0000e-04\n",
      "Epoch 72/100\n",
      "1769/1770 [============================>.] - ETA: 0s - loss: 0.4334 - accuracy: 0.8408\n",
      "Epoch 72: val_loss did not improve from 0.56470\n",
      "1770/1770 [==============================] - 57s 32ms/step - loss: 0.4334 - accuracy: 0.8408 - val_loss: 0.5884 - val_accuracy: 0.8018 - lr: 1.0000e-04\n",
      "Epoch 73/100\n",
      "1769/1770 [============================>.] - ETA: 0s - loss: 0.4218 - accuracy: 0.8452\n",
      "Epoch 73: val_loss improved from 0.56470 to 0.55700, saving model to second_model.h5\n",
      "1770/1770 [==============================] - 57s 32ms/step - loss: 0.4220 - accuracy: 0.8452 - val_loss: 0.5570 - val_accuracy: 0.8182 - lr: 1.0000e-04\n",
      "Epoch 74/100\n",
      "1769/1770 [============================>.] - ETA: 0s - loss: 0.4252 - accuracy: 0.8439\n",
      "Epoch 74: val_loss did not improve from 0.55700\n",
      "1770/1770 [==============================] - 57s 32ms/step - loss: 0.4252 - accuracy: 0.8439 - val_loss: 0.5576 - val_accuracy: 0.8246 - lr: 1.0000e-04\n",
      "Epoch 75/100\n",
      "1769/1770 [============================>.] - ETA: 0s - loss: 0.4181 - accuracy: 0.8476\n",
      "Epoch 75: val_loss did not improve from 0.55700\n",
      "1770/1770 [==============================] - 57s 32ms/step - loss: 0.4181 - accuracy: 0.8476 - val_loss: 0.5622 - val_accuracy: 0.8193 - lr: 1.0000e-04\n",
      "Epoch 76/100\n",
      "1769/1770 [============================>.] - ETA: 0s - loss: 0.4099 - accuracy: 0.8487\n",
      "Epoch 76: val_loss did not improve from 0.55700\n",
      "1770/1770 [==============================] - 57s 32ms/step - loss: 0.4099 - accuracy: 0.8487 - val_loss: 0.5581 - val_accuracy: 0.8152 - lr: 1.0000e-04\n",
      "Epoch 77/100\n",
      "1769/1770 [============================>.] - ETA: 0s - loss: 0.4081 - accuracy: 0.8499\n",
      "Epoch 77: val_loss did not improve from 0.55700\n",
      "1770/1770 [==============================] - 57s 32ms/step - loss: 0.4081 - accuracy: 0.8499 - val_loss: 0.5793 - val_accuracy: 0.8109 - lr: 1.0000e-04\n",
      "Epoch 78/100\n",
      "1769/1770 [============================>.] - ETA: 0s - loss: 0.4053 - accuracy: 0.8512\n",
      "Epoch 78: val_loss did not improve from 0.55700\n",
      "1770/1770 [==============================] - 57s 32ms/step - loss: 0.4054 - accuracy: 0.8512 - val_loss: 0.5583 - val_accuracy: 0.8184 - lr: 1.0000e-04\n",
      "Epoch 79/100\n",
      "1769/1770 [============================>.] - ETA: 0s - loss: 0.4021 - accuracy: 0.8526\n",
      "Epoch 79: val_loss did not improve from 0.55700\n",
      "1770/1770 [==============================] - 57s 32ms/step - loss: 0.4021 - accuracy: 0.8526 - val_loss: 0.5658 - val_accuracy: 0.8150 - lr: 1.0000e-04\n",
      "Epoch 80/100\n",
      "1769/1770 [============================>.] - ETA: 0s - loss: 0.4002 - accuracy: 0.8529\n",
      "Epoch 80: val_loss did not improve from 0.55700\n",
      "\n",
      "Epoch 80: ReduceLROnPlateau reducing learning rate to 4.999999873689376e-05.\n",
      "1770/1770 [==============================] - 57s 32ms/step - loss: 0.4002 - accuracy: 0.8529 - val_loss: 0.5826 - val_accuracy: 0.8128 - lr: 1.0000e-04\n",
      "Epoch 81/100\n",
      "1769/1770 [============================>.] - ETA: 0s - loss: 0.3713 - accuracy: 0.8642\n",
      "Epoch 81: val_loss improved from 0.55700 to 0.53771, saving model to second_model.h5\n",
      "1770/1770 [==============================] - 57s 32ms/step - loss: 0.3714 - accuracy: 0.8642 - val_loss: 0.5377 - val_accuracy: 0.8324 - lr: 5.0000e-05\n",
      "Epoch 82/100\n",
      "1769/1770 [============================>.] - ETA: 0s - loss: 0.3585 - accuracy: 0.8683\n",
      "Epoch 82: val_loss did not improve from 0.53771\n",
      "1770/1770 [==============================] - 57s 32ms/step - loss: 0.3586 - accuracy: 0.8683 - val_loss: 0.5573 - val_accuracy: 0.8206 - lr: 5.0000e-05\n",
      "Epoch 83/100\n",
      "1769/1770 [============================>.] - ETA: 0s - loss: 0.3561 - accuracy: 0.8690\n",
      "Epoch 83: val_loss improved from 0.53771 to 0.52800, saving model to second_model.h5\n",
      "1770/1770 [==============================] - 57s 32ms/step - loss: 0.3562 - accuracy: 0.8690 - val_loss: 0.5280 - val_accuracy: 0.8362 - lr: 5.0000e-05\n",
      "Epoch 84/100\n",
      "1769/1770 [============================>.] - ETA: 0s - loss: 0.3528 - accuracy: 0.8715\n",
      "Epoch 84: val_loss did not improve from 0.52800\n",
      "1770/1770 [==============================] - 57s 32ms/step - loss: 0.3527 - accuracy: 0.8715 - val_loss: 0.5337 - val_accuracy: 0.8312 - lr: 5.0000e-05\n",
      "Epoch 85/100\n",
      "1769/1770 [============================>.] - ETA: 0s - loss: 0.3495 - accuracy: 0.8719\n",
      "Epoch 85: val_loss improved from 0.52800 to 0.52340, saving model to second_model.h5\n",
      "1770/1770 [==============================] - 58s 33ms/step - loss: 0.3494 - accuracy: 0.8720 - val_loss: 0.5234 - val_accuracy: 0.8327 - lr: 5.0000e-05\n",
      "Epoch 86/100\n",
      "1769/1770 [============================>.] - ETA: 0s - loss: 0.3455 - accuracy: 0.8739\n",
      "Epoch 86: val_loss did not improve from 0.52340\n",
      "1770/1770 [==============================] - 58s 33ms/step - loss: 0.3455 - accuracy: 0.8739 - val_loss: 0.5348 - val_accuracy: 0.8339 - lr: 5.0000e-05\n",
      "Epoch 87/100\n",
      "1769/1770 [============================>.] - ETA: 0s - loss: 0.3415 - accuracy: 0.8759\n",
      "Epoch 87: val_loss improved from 0.52340 to 0.51934, saving model to second_model.h5\n",
      "1770/1770 [==============================] - 58s 33ms/step - loss: 0.3414 - accuracy: 0.8760 - val_loss: 0.5193 - val_accuracy: 0.8413 - lr: 5.0000e-05\n",
      "Epoch 88/100\n",
      "1769/1770 [============================>.] - ETA: 0s - loss: 0.3445 - accuracy: 0.8742\n",
      "Epoch 88: val_loss did not improve from 0.51934\n",
      "1770/1770 [==============================] - 57s 32ms/step - loss: 0.3445 - accuracy: 0.8742 - val_loss: 0.5271 - val_accuracy: 0.8328 - lr: 5.0000e-05\n",
      "Epoch 89/100\n",
      "1769/1770 [============================>.] - ETA: 0s - loss: 0.3403 - accuracy: 0.8759\n",
      "Epoch 89: val_loss improved from 0.51934 to 0.51865, saving model to second_model.h5\n",
      "1770/1770 [==============================] - 57s 32ms/step - loss: 0.3404 - accuracy: 0.8759 - val_loss: 0.5187 - val_accuracy: 0.8390 - lr: 5.0000e-05\n",
      "Epoch 90/100\n",
      "1769/1770 [============================>.] - ETA: 0s - loss: 0.3365 - accuracy: 0.8772\n",
      "Epoch 90: val_loss did not improve from 0.51865\n",
      "1770/1770 [==============================] - 56s 32ms/step - loss: 0.3365 - accuracy: 0.8771 - val_loss: 0.5280 - val_accuracy: 0.8355 - lr: 5.0000e-05\n",
      "Epoch 91/100\n",
      "1769/1770 [============================>.] - ETA: 0s - loss: 0.3337 - accuracy: 0.8771\n",
      "Epoch 91: val_loss did not improve from 0.51865\n",
      "1770/1770 [==============================] - 56s 32ms/step - loss: 0.3338 - accuracy: 0.8771 - val_loss: 0.5215 - val_accuracy: 0.8381 - lr: 5.0000e-05\n",
      "Epoch 92/100\n",
      "1769/1770 [============================>.] - ETA: 0s - loss: 0.3311 - accuracy: 0.8790\n",
      "Epoch 92: val_loss did not improve from 0.51865\n",
      "1770/1770 [==============================] - 58s 33ms/step - loss: 0.3312 - accuracy: 0.8790 - val_loss: 0.5266 - val_accuracy: 0.8389 - lr: 5.0000e-05\n",
      "Epoch 93/100\n",
      "1769/1770 [============================>.] - ETA: 0s - loss: 0.3302 - accuracy: 0.8799\n",
      "Epoch 93: val_loss did not improve from 0.51865\n",
      "1770/1770 [==============================] - 57s 32ms/step - loss: 0.3302 - accuracy: 0.8799 - val_loss: 0.5199 - val_accuracy: 0.8414 - lr: 5.0000e-05\n",
      "Epoch 94/100\n",
      "1769/1770 [============================>.] - ETA: 0s - loss: 0.3294 - accuracy: 0.8802\n",
      "Epoch 94: val_loss improved from 0.51865 to 0.51763, saving model to second_model.h5\n",
      "1770/1770 [==============================] - 57s 32ms/step - loss: 0.3294 - accuracy: 0.8802 - val_loss: 0.5176 - val_accuracy: 0.8400 - lr: 5.0000e-05\n",
      "Epoch 95/100\n",
      "1769/1770 [============================>.] - ETA: 0s - loss: 0.3243 - accuracy: 0.8820\n",
      "Epoch 95: val_loss did not improve from 0.51763\n",
      "1770/1770 [==============================] - 57s 32ms/step - loss: 0.3243 - accuracy: 0.8820 - val_loss: 0.5243 - val_accuracy: 0.8373 - lr: 5.0000e-05\n",
      "Epoch 96/100\n",
      "1770/1770 [==============================] - ETA: 0s - loss: 0.3236 - accuracy: 0.8824\n",
      "Epoch 96: val_loss improved from 0.51763 to 0.51745, saving model to second_model.h5\n",
      "1770/1770 [==============================] - 57s 32ms/step - loss: 0.3236 - accuracy: 0.8824 - val_loss: 0.5175 - val_accuracy: 0.8376 - lr: 5.0000e-05\n",
      "Epoch 97/100\n",
      "1769/1770 [============================>.] - ETA: 0s - loss: 0.3204 - accuracy: 0.8827\n",
      "Epoch 97: val_loss did not improve from 0.51745\n",
      "1770/1770 [==============================] - 57s 32ms/step - loss: 0.3204 - accuracy: 0.8827 - val_loss: 0.5234 - val_accuracy: 0.8406 - lr: 5.0000e-05\n",
      "Epoch 98/100\n",
      "1769/1770 [============================>.] - ETA: 0s - loss: 0.3239 - accuracy: 0.8812\n",
      "Epoch 98: val_loss improved from 0.51745 to 0.51248, saving model to second_model.h5\n",
      "1770/1770 [==============================] - 57s 32ms/step - loss: 0.3240 - accuracy: 0.8811 - val_loss: 0.5125 - val_accuracy: 0.8428 - lr: 5.0000e-05\n",
      "Epoch 99/100\n",
      "1769/1770 [============================>.] - ETA: 0s - loss: 0.3232 - accuracy: 0.8818\n",
      "Epoch 99: val_loss did not improve from 0.51248\n",
      "1770/1770 [==============================] - 57s 32ms/step - loss: 0.3233 - accuracy: 0.8818 - val_loss: 0.5135 - val_accuracy: 0.8432 - lr: 5.0000e-05\n",
      "Epoch 100/100\n",
      "1769/1770 [============================>.] - ETA: 0s - loss: 0.3182 - accuracy: 0.8825\n",
      "Epoch 100: val_loss improved from 0.51248 to 0.50945, saving model to second_model.h5\n",
      "1770/1770 [==============================] - 59s 33ms/step - loss: 0.3181 - accuracy: 0.8825 - val_loss: 0.5095 - val_accuracy: 0.8435 - lr: 5.0000e-05\n"
     ]
    }
   ],
   "source": [
    "# x_train.shape, x_test.shape, y_train.shape, y_test.shape\n",
    "model_history = model.fit(x_train, y_train,\n",
    "    validation_data=(x_test, y_test),\n",
    "    epochs=100,\n",
    "    callbacks=callbacks\n",
    ")"
   ]
  },
  {
   "cell_type": "code",
   "execution_count": null,
   "metadata": {
    "id": "IjqT3Um625zt"
   },
   "outputs": [],
   "source": [
    "def plot_confusion_matrix(y_true, y_pred, classes,\n",
    "                          normalize=False,\n",
    "                          title=None,\n",
    "                          cmap=plt.cm.Blues):\n",
    "    \"\"\"\n",
    "    This function prints and plots the confusion matrix.\n",
    "    Normalization can be applied by setting `normalize=True`.\n",
    "    \"\"\"\n",
    "    if not title:\n",
    "        if normalize:\n",
    "            title = 'Normalized confusion matrix'\n",
    "        else:\n",
    "            title = 'Confusion matrix, without normalization'\n",
    "\n",
    "    # Compute confusion matrix\n",
    "    cm = confusion_matrix(y_true, y_pred)\n",
    "    # Only use the labels that appear in the data\n",
    "    classes = classes\n",
    "    if normalize:\n",
    "        cm = cm.astype('float') / cm.sum(axis=1)[:, np.newaxis]\n",
    "        #print(\"Normalized confusion matrix\")\n",
    "    #else:\n",
    "        #print('Confusion matrix, without normalization')\n",
    "\n",
    "    #print(cm)\n",
    "\n",
    "    fig, ax = plt.subplots(figsize=(12,6))\n",
    "    im = ax.imshow(cm, interpolation='nearest', cmap=cmap)\n",
    "    ax.figure.colorbar(im, ax=ax)\n",
    "    # We want to show all ticks...\n",
    "    ax.set(xticks=np.arange(cm.shape[1]),\n",
    "           yticks=np.arange(cm.shape[0]),\n",
    "           # ... and label them with the respective list entries\n",
    "           xticklabels=classes, yticklabels=classes,\n",
    "           title=title,\n",
    "           ylabel='True label',\n",
    "           xlabel='Predicted label')\n",
    "\n",
    "    # Rotate the tick labels and set their alignment.\n",
    "    plt.setp(ax.get_xticklabels(), rotation=45, ha=\"right\",\n",
    "             rotation_mode=\"anchor\")\n",
    "\n",
    "    # Loop over data dimensions and create text annotations.\n",
    "    fmt = '.2f' if normalize else 'd'\n",
    "    thresh = cm.max() / 2.\n",
    "    for i in range(cm.shape[0]):\n",
    "        for j in range(cm.shape[1]):\n",
    "            ax.text(j, i, format(cm[i, j], fmt),\n",
    "                    ha=\"center\", va=\"center\",\n",
    "                    color=\"white\" if cm[i, j] > thresh else \"black\")\n",
    "    fig.tight_layout()\n",
    "    return ax"
   ]
  },
  {
   "cell_type": "code",
   "execution_count": null,
   "metadata": {
    "id": "1qHbgs2O26cK"
   },
   "outputs": [],
   "source": [
    "emotion_labels = ['Angry', 'Disgust', 'Fear', 'Happy', 'Sad', 'Surprise', 'Neutral']"
   ]
  },
  {
   "cell_type": "code",
   "execution_count": null,
   "metadata": {
    "colab": {
     "base_uri": "https://localhost:8080/",
     "height": 452
    },
    "executionInfo": {
     "elapsed": 1217,
     "status": "ok",
     "timestamp": 1648284189502,
     "user": {
      "displayName": "Mark Angelo Nicolas",
      "photoUrl": "https://lh3.googleusercontent.com/a-/AOh14Gha95NANwDGK-NOWMbw3tJZ3iDjf5aU6UlGFBL-rg=s64",
      "userId": "13266928597688411588"
     },
     "user_tz": -480
    },
    "id": "7AmaqVuX28So",
    "outputId": "0820351f-bc7b-40bd-8846-a6c8141b3d23"
   },
   "outputs": [
    {
     "name": "stderr",
     "output_type": "stream",
     "text": [
      "/usr/local/lib/python3.7/dist-packages/seaborn/_decorators.py:43: FutureWarning: Pass the following variables as keyword args: x, y. From version 0.12, the only valid positional argument will be `data`, and passing other arguments without an explicit keyword will result in an error or misinterpretation.\n",
      "  FutureWarning\n",
      "/usr/local/lib/python3.7/dist-packages/seaborn/_decorators.py:43: FutureWarning: Pass the following variables as keyword args: x, y. From version 0.12, the only valid positional argument will be `data`, and passing other arguments without an explicit keyword will result in an error or misinterpretation.\n",
      "  FutureWarning\n",
      "/usr/local/lib/python3.7/dist-packages/seaborn/_decorators.py:43: FutureWarning: Pass the following variables as keyword args: x, y. From version 0.12, the only valid positional argument will be `data`, and passing other arguments without an explicit keyword will result in an error or misinterpretation.\n",
      "  FutureWarning\n",
      "/usr/local/lib/python3.7/dist-packages/seaborn/_decorators.py:43: FutureWarning: Pass the following variables as keyword args: x, y. From version 0.12, the only valid positional argument will be `data`, and passing other arguments without an explicit keyword will result in an error or misinterpretation.\n",
      "  FutureWarning\n"
     ]
    },
    {
     "data": {
      "image/png": "[encoded data removed]",
      "text/plain": [
       "<Figure size 864x288 with 2 Axes>"
      ]
     },
     "metadata": {},
     "output_type": "display_data"
    }
   ],
   "source": [
    "sns.set()\n",
    "fig = plt.figure(0, (12, 4))\n",
    "\n",
    "ax = plt.subplot(1, 2, 1)\n",
    "sns.lineplot(model_history.epoch, model_history.history['accuracy'], label='train')\n",
    "sns.lineplot(model_history.epoch, model_history.history['val_accuracy'], label='valid')\n",
    "plt.title('Accuracy')\n",
    "plt.tight_layout()\n",
    "\n",
    "ax = plt.subplot(1, 2, 2)\n",
    "sns.lineplot(model_history.epoch, model_history.history['loss'], label='train')\n",
    "sns.lineplot(model_history.epoch, model_history.history['val_loss'], label='valid')\n",
    "plt.title('Loss')\n",
    "plt.tight_layout()\n",
    "\n",
    "# plt.savefig('model_with_augmentation_history.png')\n",
    "plt.show()"
   ]
  },
  {
   "cell_type": "code",
   "execution_count": null,
   "metadata": {
    "colab": {
     "base_uri": "https://localhost:8080/"
    },
    "executionInfo": {
     "elapsed": 2553,
     "status": "ok",
     "timestamp": 1648284192034,
     "user": {
      "displayName": "Mark Angelo Nicolas",
      "photoUrl": "https://lh3.googleusercontent.com/a-/AOh14Gha95NANwDGK-NOWMbw3tJZ3iDjf5aU6UlGFBL-rg=s64",
      "userId": "13266928597688411588"
     },
     "user_tz": -480
    },
    "id": "Kb3zv3ay29in",
    "outputId": "35e13931-5612-459b-aa62-00961778e770"
   },
   "outputs": [
    {
     "name": "stdout",
     "output_type": "stream",
     "text": [
      "CNN Model Accuracy: 0.8435\n"
     ]
    }
   ],
   "source": [
    "test_true = np.argmax(y_test, axis=1)\n",
    "test_pred = np.argmax(model.predict(x_test), axis=1)\n",
    "print(\"CNN Model Accuracy: {:.4f}\".format(accuracy_score(test_true, test_pred)))"
   ]
  },
  {
   "cell_type": "code",
   "execution_count": null,
   "metadata": {
    "colab": {
     "base_uri": "https://localhost:8080/",
     "height": 437
    },
    "executionInfo": {
     "elapsed": 752,
     "status": "ok",
     "timestamp": 1648284192763,
     "user": {
      "displayName": "Mark Angelo Nicolas",
      "photoUrl": "https://lh3.googleusercontent.com/a-/AOh14Gha95NANwDGK-NOWMbw3tJZ3iDjf5aU6UlGFBL-rg=s64",
      "userId": "13266928597688411588"
     },
     "user_tz": -480
    },
    "id": "p2KwKuZt2_YB",
    "outputId": "bd1b5e57-77a4-48a0-e1cc-0e027b389bad"
   },
   "outputs": [
    {
     "data": {
      "image/png": "[encoded data removed]",
      "text/plain": [
       "<Figure size 864x432 with 2 Axes>"
      ]
     },
     "metadata": {},
     "output_type": "display_data"
    }
   ],
   "source": [
    "# Plot normalized confusion matrix\n",
    "plot_confusion_matrix(test_true, test_pred, classes=emotion_labels, normalize=True, title='Normalized confusion matrix')\n",
    "plt.show()"
   ]
  },
  {
   "cell_type": "code",
   "execution_count": null,
   "metadata": {
    "colab": {
     "base_uri": "https://localhost:8080/",
     "height": 437
    },
    "executionInfo": {
     "elapsed": 925,
     "status": "ok",
     "timestamp": 1648284193673,
     "user": {
      "displayName": "Mark Angelo Nicolas",
      "photoUrl": "https://lh3.googleusercontent.com/a-/AOh14Gha95NANwDGK-NOWMbw3tJZ3iDjf5aU6UlGFBL-rg=s64",
      "userId": "13266928597688411588"
     },
     "user_tz": -480
    },
    "id": "NUdhDnqn3B0W",
    "outputId": "6032eb5c-2760-4255-ea19-5232052c92a8"
   },
   "outputs": [
    {
     "data": {
      "image/png": "[encoded data removed]",
      "text/plain": [
       "<Figure size 864x432 with 2 Axes>"
      ]
     },
     "metadata": {},
     "output_type": "display_data"
    }
   ],
   "source": [
    "plot_confusion_matrix(test_true, test_pred, classes=emotion_labels, normalize=False, title='Not Normalized confusion matrix')\n",
    "plt.show()"
   ]
  },
  {
   "cell_type": "code",
   "execution_count": null,
   "metadata": {
    "colab": {
     "base_uri": "https://localhost:8080/"
    },
    "executionInfo": {
     "elapsed": 45,
     "status": "ok",
     "timestamp": 1648284193684,
     "user": {
      "displayName": "Mark Angelo Nicolas",
      "photoUrl": "https://lh3.googleusercontent.com/a-/AOh14Gha95NANwDGK-NOWMbw3tJZ3iDjf5aU6UlGFBL-rg=s64",
      "userId": "13266928597688411588"
     },
     "user_tz": -480
    },
    "id": "BPWeMeFL3DfR",
    "outputId": "ace1ccf5-59f1-408e-bbea-628abcfed393"
   },
   "outputs": [
    {
     "name": "stdout",
     "output_type": "stream",
     "text": [
      "total wrong validation predictions: 985\n",
      "\n",
      "\n",
      "              precision    recall  f1-score   support\n",
      "\n",
      "           0       0.82      0.84      0.83       904\n",
      "           1       0.99      1.00      0.99       889\n",
      "           2       0.82      0.77      0.79       883\n",
      "           3       0.88      0.79      0.83       884\n",
      "           4       0.72      0.77      0.74       911\n",
      "           5       0.92      0.96      0.94       926\n",
      "           6       0.76      0.78      0.77       896\n",
      "\n",
      "    accuracy                           0.84      6293\n",
      "   macro avg       0.84      0.84      0.84      6293\n",
      "weighted avg       0.84      0.84      0.84      6293\n",
      "\n"
     ]
    }
   ],
   "source": [
    "print(f'total wrong validation predictions: {np.sum(np.argmax(y_test, axis=1) != test_pred)}\\n\\n')\n",
    "print(classification_report(np.argmax(y_test, axis=1), test_pred))"
   ]
  }
 ],
 "metadata": {
  "accelerator": "GPU",
  "colab": {
   "collapsed_sections": [],
   "name": "Thesis Best Model Training",
   "provenance": []
  },
  "kernelspec": {
   "display_name": "Python 3",
   "language": "python",
   "name": "python3"
  },
  "language_info": {
   "codemirror_mode": {
    "name": "ipython",
    "version": 3
   },
   "file_extension": ".py",
   "mimetype": "text/x-python",
   "name": "python",
   "nbconvert_exporter": "python",
   "pygments_lexer": "ipython3",
   "version": "3.8.5"
  }
 },
 "nbformat": 4,
 "nbformat_minor": 1
}
